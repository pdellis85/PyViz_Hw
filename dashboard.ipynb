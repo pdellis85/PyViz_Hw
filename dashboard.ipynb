{
 "cells": [
  {
   "cell_type": "markdown",
   "metadata": {},
   "source": [
    "# San Francisco Rental Prices Dashboard\n",
    "\n",
    "In this notebook, you will compile the visualizations from the previous analysis into functions that can be used for a Panel dashboard."
   ]
  },
  {
   "cell_type": "code",
   "execution_count": 21,
   "metadata": {},
   "outputs": [],
   "source": [
    "# imports\n",
    "import panel as pn\n",
    "from panel.interact import interact\n",
    "import plotly.express as px\n",
    "import pandas as pd\n",
    "import matplotlib.pyplot as plt\n",
    "import os\n",
    "from pathlib import Path\n",
    "from dotenv import load_dotenv\n",
    "\n",
    "import warnings\n",
    "warnings.filterwarnings('ignore')"
   ]
  },
  {
   "cell_type": "code",
   "execution_count": 22,
   "metadata": {},
   "outputs": [],
   "source": [
    "# Set up Panel Plotly extension\n",
    "pn.extension('plotly')"
   ]
  },
  {
   "cell_type": "code",
   "execution_count": 23,
   "metadata": {},
   "outputs": [],
   "source": [
    "pd.options.plotting.backend = 'holoviews'\n",
    "import hvplot\n",
    "import hvplot.pandas"
   ]
  },
  {
   "cell_type": "code",
   "execution_count": 24,
   "metadata": {},
   "outputs": [],
   "source": [
    "# Read the Mapbox API key\n",
    "load_dotenv()\n",
    "map_box_api = os.getenv(\"mapbox\")\n",
    "px.set_mapbox_access_token(map_box_api)"
   ]
  },
  {
   "cell_type": "markdown",
   "metadata": {},
   "source": [
    "# Import Data"
   ]
  },
  {
   "cell_type": "code",
   "execution_count": 25,
   "metadata": {},
   "outputs": [
    {
     "data": {
      "text/html": [
       "<div>\n",
       "<style scoped>\n",
       "    .dataframe tbody tr th:only-of-type {\n",
       "        vertical-align: middle;\n",
       "    }\n",
       "\n",
       "    .dataframe tbody tr th {\n",
       "        vertical-align: top;\n",
       "    }\n",
       "\n",
       "    .dataframe thead th {\n",
       "        text-align: right;\n",
       "    }\n",
       "</style>\n",
       "<table border=\"1\" class=\"dataframe\">\n",
       "  <thead>\n",
       "    <tr style=\"text-align: right;\">\n",
       "      <th></th>\n",
       "      <th>housing_units</th>\n",
       "      <th>sale_price_sqr_foot</th>\n",
       "      <th>gross_rent</th>\n",
       "    </tr>\n",
       "    <tr>\n",
       "      <th>year</th>\n",
       "      <th></th>\n",
       "      <th></th>\n",
       "      <th></th>\n",
       "    </tr>\n",
       "  </thead>\n",
       "  <tbody>\n",
       "    <tr>\n",
       "      <th>2010</th>\n",
       "      <td>372560</td>\n",
       "      <td>369.344353</td>\n",
       "      <td>1239</td>\n",
       "    </tr>\n",
       "    <tr>\n",
       "      <th>2011</th>\n",
       "      <td>374507</td>\n",
       "      <td>341.903429</td>\n",
       "      <td>1530</td>\n",
       "    </tr>\n",
       "    <tr>\n",
       "      <th>2012</th>\n",
       "      <td>376454</td>\n",
       "      <td>399.389968</td>\n",
       "      <td>2324</td>\n",
       "    </tr>\n",
       "    <tr>\n",
       "      <th>2013</th>\n",
       "      <td>378401</td>\n",
       "      <td>483.600304</td>\n",
       "      <td>2971</td>\n",
       "    </tr>\n",
       "    <tr>\n",
       "      <th>2014</th>\n",
       "      <td>380348</td>\n",
       "      <td>556.277273</td>\n",
       "      <td>3528</td>\n",
       "    </tr>\n",
       "  </tbody>\n",
       "</table>\n",
       "</div>"
      ],
      "text/plain": [
       "      housing_units  sale_price_sqr_foot  gross_rent\n",
       "year                                                \n",
       "2010         372560           369.344353        1239\n",
       "2011         374507           341.903429        1530\n",
       "2012         376454           399.389968        2324\n",
       "2013         378401           483.600304        2971\n",
       "2014         380348           556.277273        3528"
      ]
     },
     "execution_count": 25,
     "metadata": {},
     "output_type": "execute_result"
    }
   ],
   "source": [
    "# Import the necessary CSVs to Pandas DataFrames\n",
    "file_path = Path(\"sfo_neighborhoods_census_data.csv\")\n",
    "sfo_data = pd.read_csv(file_path, index_col=\"year\")\n",
    "sfo_data.head()\n",
    "\n",
    "# Load neighborhoods coordinates data\n",
    "file_path = Path(\"neighborhoods_coordinates.csv\")\n",
    "neighborhood_data = pd.read_csv(file_path)\n",
    "neighborhood_data.head()\n",
    "# mean number of housing units per year data\n",
    "file_path = Path(\"sfo_mean.csv\")\n",
    "sfo_data2 = pd.read_csv(file_path, index_col='year')\n",
    "sfo_data2.head()"
   ]
  },
  {
   "cell_type": "markdown",
   "metadata": {},
   "source": [
    "- - -"
   ]
  },
  {
   "cell_type": "markdown",
   "metadata": {},
   "source": [
    "## Panel Visualizations\n",
    "\n",
    "In this section, you will copy the code for each plot type from your analysis notebook and place it into separate functions that Panel can use to create panes for the dashboard. \n",
    "\n",
    "These functions will convert the plot object to a Panel pane.\n",
    "\n",
    "Be sure to include any DataFrame transformation/manipulation code required along with the plotting code.\n",
    "\n",
    "Return a Panel pane object from each function that can be used to build the dashboard.\n",
    "\n",
    "Note: Remove any `.show()` lines from the code. We want to return the plots instead of showing them. The Panel dashboard will then display the plots."
   ]
  },
  {
   "cell_type": "code",
   "execution_count": 26,
   "metadata": {},
   "outputs": [],
   "source": [
    "# Define Panel Visualization Functions\n",
    "def housing_units_per_year():\n",
    "    \"\"\"Housing Units Per Year.\"\"\"\n",
    "    \n",
    "    plot1 = sfo_data2.plot(kind='bar',  xlabel='Year', \n",
    "               ylabel='Housing Units' , rot=90,  \n",
    "               title='Housing Units in San Francisco from 2010 to 2016', \n",
    "               legend=False)\n",
    "    \n",
    "    return plot1\n",
    "\n",
    "def average_gross_rent():\n",
    "    \"\"\"Average Gross Rent in San Francisco Per Year.\"\"\"\n",
    "    \n",
    "    gross_rent = sfo_data.groupby(['year'])['gross_rent'].mean()\n",
    "\n",
    "    plot2 = gross_rent.plot(kind='line',  xlabel='Year', \n",
    "               ylabel='Price per Sqft', color='red',   \n",
    "               title='Average Gross Rent by Year', \n",
    "               legend=False)\n",
    "    \n",
    "    return plot2\n",
    "\n",
    "def average_sales_price():\n",
    "    \"\"\"Average Sales Price Per Year.\"\"\"\n",
    "    \n",
    "    sale_price_sqr_foot = sfo_data.groupby(['year'])['sale_price_sqr_foot'].mean()\n",
    "\n",
    "    plot3 = sale_price_sqr_foot.plot(kind='line',  xlabel='Year', \n",
    "               ylabel='Price per Sqft', color='purple',   \n",
    "               title='Average Price per Sqft by Year', \n",
    "               legend=False)\n",
    "    \n",
    "    return plot3\n",
    "\n",
    "\n",
    "\n",
    "def average_price_by_neighborhood():\n",
    "    \"\"\"Average Prices by Neighborhood.\"\"\"\n",
    "    \n",
    "    hood_mean = sfo_data.groupby(['year','neighborhood'])['sale_price_sqr_foot','gross_rent'].mean()\n",
    "\n",
    "    avg_price = hood_mean.hvplot.line(x='year',xlabel='Year', y='sale_price_sqr_foot',\n",
    "                      ylabel='Avg Sales Price per Square Foot', width=600, \n",
    "                         groupby='neighborhood')\n",
    "    return avg_price\n",
    "    \n",
    "    \n",
    "def top_most_expensive_neighborhoods():\n",
    "    \"\"\"Top 10 Most Expensive Neighborhoods.\"\"\"\n",
    "\n",
    "    top_hood = sfo_data.groupby(['neighborhood'])['sale_price_sqr_foot', 'gross_rent','housing_units'].mean().nlargest(10, 'sale_price_sqr_foot').sort_values(by='sale_price_sqr_foot',ascending=False)\n",
    "\n",
    "\n",
    "    plot4 = top_hood.hvplot.bar(x ='neighborhood',xlabel='neighborhood', y='sale_price_sqr_foot',\n",
    "                      ylabel='Avg Sales Price per Square Foot', height=500, width=600, rot=90\n",
    "                         ).sort(['sale_price_sqr_foot'],reverse=True)\n",
    "    return plot4\n",
    "\n",
    "def most_expensive_neighborhoods_rent_sales():\n",
    "    \"\"\"Comparison of Rent and Sales Prices of Most Expensive Neighborhoods.\"\"\"   \n",
    "    \n",
    "    hood_mean = sfo_data.groupby(['year','neighborhood'])['sale_price_sqr_foot','gross_rent','housing_units'].mean().sort_values(by='gross_rent',ascending=True)\n",
    "\n",
    "    stack_hood = hood_mean.hvplot.bar(stacked=False,  x='year', xlabel='Neighborhood', y=['sale_price_sqr_foot','gross_rent'], \n",
    "                                  value_label='Num Housing Units', height=400, groupby='neighborhood', rot=90)\n",
    "    return stack_hood\n",
    "\n",
    "\n",
    "def neighborhood_map():\n",
    "    \"\"\"Neighborhood Map.\"\"\"\n",
    "\n",
    "    map_mean = sfo_data.groupby(['neighborhood'])['sale_price_sqr_foot','housing_units','gross_rent'].mean().reset_index()\n",
    "\n",
    "    map_data = pd.concat([map_mean, neighborhood_data], axis='columns', join='inner')\n",
    "    \n",
    "\n",
    "    # Set the mapbox access token\n",
    "    px.set_mapbox_access_token(map_box_api)\n",
    "\n",
    "    # Create a scatter mapbox to analyze neighborhood info\n",
    "    map_plot = px.scatter_mapbox(\n",
    "        map_data,\n",
    "        lat=\"Lat\",\n",
    "        lon=\"Lon\",\n",
    "         size=\"sale_price_sqr_foot\",\n",
    "         color=\"gross_rent\",\n",
    "          zoom=10\n",
    "    )\n",
    "\n",
    "    # Display the map\n",
    "    return map_plot"
   ]
  },
  {
   "cell_type": "markdown",
   "metadata": {},
   "source": [
    "## Panel Dashboard\n",
    "\n",
    "In this section, you will combine all of the plots into a single dashboard view using Panel. Be creative with your dashboard design!"
   ]
  },
  {
   "cell_type": "code",
   "execution_count": 27,
   "metadata": {},
   "outputs": [],
   "source": [
    "# Create a Title for the Dashboard\n",
    "\n",
    "yearly_column = pn.Column(\n",
    "    housing_units_per_year(), average_gross_rent() + average_sales_price() \n",
    ")\n",
    "\n",
    "\n",
    "\n",
    "hood_column = pn.Column(\n",
    "    average_price_by_neighborhood(),\n",
    "    top_most_expensive_neighborhoods(),\n",
    "    most_expensive_neighborhoods_rent_sales()\n",
    ")\n",
    "\n",
    "\n",
    "\n",
    "map_column = pn.Column(\n",
    "     neighborhood_map() \n",
    ")\n",
    "\n",
    "\n",
    "# Create a tab layout for the dashboard\n",
    "pop_dashboard = pn.Tabs(\n",
    "    (\"Welcome\", map_column),\n",
    "    (\"Yearly Market Analysis\", yearly_column),\n",
    "    (\"Neighborhood Analysis\", hood_column)\n",
    ")\n",
    "\n",
    "\n",
    "# Create the dashboard\n",
    "# YOUR CODE HERE!"
   ]
  },
  {
   "cell_type": "markdown",
   "metadata": {},
   "source": [
    "## Serve the Panel Dashboard"
   ]
  },
  {
   "cell_type": "code",
   "execution_count": 28,
   "metadata": {},
   "outputs": [
    {
     "data": {},
     "metadata": {},
     "output_type": "display_data"
    },
    {
     "data": {},
     "metadata": {},
     "output_type": "display_data"
    },
    {
     "data": {
      "application/vnd.holoviews_exec.v0+json": "",
      "text/html": [
       "<div id='3953'>\n",
       "\n",
       "\n",
       "\n",
       "\n",
       "\n",
       "  <div class=\"bk-root\" id=\"631a9d29-417c-46d0-ba53-c536b703509b\" data-root-id=\"3953\"></div>\n",
       "</div>\n",
       "<script type=\"application/javascript\">(function(root) {\n",
       "  function embed_document(root) {\n",
       "    var docs_json = {\"7462fa98-4ac6-40ef-8c4a-94d4b30b1af1\":{\"defs\":[{\"extends\":null,\"module\":null,\"name\":\"ReactiveHTML1\",\"overrides\":[],\"properties\":[]},{\"extends\":null,\"module\":null,\"name\":\"FlexBox1\",\"overrides\":[],\"properties\":[{\"default\":\"flex-start\",\"kind\":null,\"name\":\"align_content\"},{\"default\":\"flex-start\",\"kind\":null,\"name\":\"align_items\"},{\"default\":\"row\",\"kind\":null,\"name\":\"flex_direction\"},{\"default\":\"wrap\",\"kind\":null,\"name\":\"flex_wrap\"},{\"default\":\"flex-start\",\"kind\":null,\"name\":\"justify_content\"}]},{\"extends\":null,\"module\":null,\"name\":\"TemplateActions1\",\"overrides\":[],\"properties\":[{\"default\":0,\"kind\":null,\"name\":\"open_modal\"},{\"default\":0,\"kind\":null,\"name\":\"close_modal\"}]},{\"extends\":null,\"module\":null,\"name\":\"MaterialTemplateActions1\",\"overrides\":[],\"properties\":[{\"default\":0,\"kind\":null,\"name\":\"open_modal\"},{\"default\":0,\"kind\":null,\"name\":\"close_modal\"}]}],\"roots\":{\"references\":[{\"attributes\":{},\"id\":\"4419\",\"type\":\"LinearScale\"},{\"attributes\":{\"below\":[{\"id\":\"4343\"}],\"center\":[{\"id\":\"4346\"},{\"id\":\"4350\"}],\"height\":300,\"left\":[{\"id\":\"4347\"}],\"margin\":[5,5,5,5],\"min_border_bottom\":10,\"min_border_left\":10,\"min_border_right\":10,\"min_border_top\":10,\"renderers\":[{\"id\":\"4370\"}],\"sizing_mode\":\"fixed\",\"title\":{\"id\":\"4335\"},\"toolbar\":{\"id\":\"4357\"},\"x_range\":{\"id\":\"4027\"},\"x_scale\":{\"id\":\"4339\"},\"y_range\":{\"id\":\"4075\"},\"y_scale\":{\"id\":\"4341\"}},\"id\":\"4334\",\"subtype\":\"Figure\",\"type\":\"Plot\"},{\"attributes\":{\"axis\":{\"id\":\"4090\"},\"dimension\":1,\"grid_line_color\":null,\"ticker\":null},\"id\":\"4093\",\"type\":\"Grid\"},{\"attributes\":{},\"id\":\"4378\",\"type\":\"BasicTickFormatter\"},{\"attributes\":{\"child\":{\"id\":\"3954\"},\"name\":\"Column05369\",\"title\":\"Welcome\"},\"id\":\"3957\",\"type\":\"Panel\"},{\"attributes\":{\"children\":[{\"id\":\"4334\"},{\"id\":\"4405\"}],\"margin\":[0,0,0,0],\"name\":\"Row05344\"},\"id\":\"4330\",\"type\":\"Row\"},{\"attributes\":{\"axis_label\":\"neighborhood\",\"formatter\":{\"id\":\"4452\"},\"major_label_orientation\":1.5707963267948966,\"major_label_policy\":{\"id\":\"4451\"},\"ticker\":{\"id\":\"4422\"}},\"id\":\"4421\",\"type\":\"CategoricalAxis\"},{\"attributes\":{\"callback\":null,\"renderers\":[{\"id\":\"4370\"}],\"tags\":[\"hv_created\"],\"tooltips\":[[\"year\",\"@{year}\"],[\"sale_price_sqr_foot\",\"@{sale_price_sqr_foot}\"]]},\"id\":\"4333\",\"type\":\"HoverTool\"},{\"attributes\":{\"factors\":[[\"2010\",\"gross_rent\"],[\"2010\",\"sale_price_sqr_foot\"],[\"2010\",\"housing_units\"],[\"2011\",\"gross_rent\"],[\"2011\",\"sale_price_sqr_foot\"],[\"2011\",\"housing_units\"],[\"2012\",\"gross_rent\"],[\"2012\",\"sale_price_sqr_foot\"],[\"2012\",\"housing_units\"],[\"2013\",\"gross_rent\"],[\"2013\",\"sale_price_sqr_foot\"],[\"2013\",\"housing_units\"],[\"2014\",\"gross_rent\"],[\"2014\",\"sale_price_sqr_foot\"],[\"2014\",\"housing_units\"],[\"2015\",\"gross_rent\"],[\"2015\",\"sale_price_sqr_foot\"],[\"2015\",\"housing_units\"],[\"2016\",\"gross_rent\"],[\"2016\",\"sale_price_sqr_foot\"],[\"2016\",\"housing_units\"]],\"tags\":[[[\"year\",\"year\",null],[\"Variable\",\"Variable\",null]]]},\"id\":\"3959\",\"type\":\"FactorRange\"},{\"attributes\":{\"children\":[{\"id\":\"3956\"}],\"margin\":[0,0,0,0],\"name\":\"Column05369\"},\"id\":\"3954\",\"type\":\"Column\"},{\"attributes\":{\"line_color\":\"#30a2da\",\"line_width\":2,\"x\":{\"field\":\"year\"},\"y\":{\"field\":\"sale_price_sqr_foot\"}},\"id\":\"4367\",\"type\":\"Line\"},{\"attributes\":{},\"id\":\"4091\",\"type\":\"BasicTicker\"},{\"attributes\":{\"data_source\":{\"id\":\"4364\"},\"glyph\":{\"id\":\"4367\"},\"hover_glyph\":null,\"muted_glyph\":{\"id\":\"4369\"},\"nonselection_glyph\":{\"id\":\"4368\"},\"selection_glyph\":{\"id\":\"4372\"},\"view\":{\"id\":\"4371\"}},\"id\":\"4370\",\"type\":\"GlyphRenderer\"},{\"attributes\":{\"axis_label\":\"Price per Sqft\",\"formatter\":{\"id\":\"4121\"},\"major_label_policy\":{\"id\":\"4120\"},\"ticker\":{\"id\":\"4091\"}},\"id\":\"4090\",\"type\":\"LinearAxis\"},{\"attributes\":{\"line_color\":\"red\",\"line_width\":2,\"x\":{\"field\":\"year\"},\"y\":{\"field\":\"gross_rent\"}},\"id\":\"4063\",\"type\":\"Line\"},{\"attributes\":{\"axis\":{\"id\":\"4424\"},\"dimension\":1,\"grid_line_color\":null,\"ticker\":null},\"id\":\"4427\",\"type\":\"Grid\"},{\"attributes\":{},\"id\":\"4422\",\"type\":\"CategoricalTicker\"},{\"attributes\":{\"line_alpha\":0.2,\"line_color\":\"purple\",\"line_width\":2,\"x\":{\"field\":\"year\"},\"y\":{\"field\":\"sale_price_sqr_foot\"}},\"id\":\"4112\",\"type\":\"Line\"},{\"attributes\":{\"toolbars\":[{\"id\":\"4053\"},{\"id\":\"4100\"}],\"tools\":[{\"id\":\"4029\"},{\"id\":\"4047\"},{\"id\":\"4048\"},{\"id\":\"4049\"},{\"id\":\"4050\"},{\"id\":\"4051\"},{\"id\":\"4076\"},{\"id\":\"4094\"},{\"id\":\"4095\"},{\"id\":\"4096\"},{\"id\":\"4097\"},{\"id\":\"4098\"}]},\"id\":\"4145\",\"type\":\"ProxyToolbar\"},{\"attributes\":{},\"id\":\"4351\",\"type\":\"SaveTool\"},{\"attributes\":{\"line_alpha\":0.1,\"line_color\":\"purple\",\"line_width\":2,\"x\":{\"field\":\"year\"},\"y\":{\"field\":\"sale_price_sqr_foot\"}},\"id\":\"4111\",\"type\":\"Line\"},{\"attributes\":{},\"id\":\"4061\",\"type\":\"Selection\"},{\"attributes\":{\"axis\":{\"id\":\"4421\"},\"grid_line_color\":null,\"ticker\":null},\"id\":\"4423\",\"type\":\"Grid\"},{\"attributes\":{\"line_alpha\":0.1,\"line_color\":\"#30a2da\",\"line_width\":2,\"x\":{\"field\":\"year\"},\"y\":{\"field\":\"sale_price_sqr_foot\"}},\"id\":\"4368\",\"type\":\"Line\"},{\"attributes\":{\"data\":[{\"hovertemplate\":\"sale_price_sqr_foot=%{marker.size}<br>Lat=%{lat}<br>Lon=%{lon}<br>gross_rent=%{marker.color}<extra></extra>\",\"legendgroup\":\"\",\"marker\":{\"coloraxis\":\"coloraxis\",\"sizemode\":\"area\",\"sizeref\":2.259983144180161},\"mode\":\"markers\",\"name\":\"\",\"showlegend\":false,\"subplot\":\"mapbox\",\"type\":\"scattermapbox\"}],\"data_sources\":[{\"id\":\"3955\"}],\"layout\":{\"coloraxis\":{\"colorbar\":{\"title\":{\"text\":\"gross_rent\"}},\"colorscale\":[[0.0,\"#0d0887\"],[0.1111111111111111,\"#46039f\"],[0.2222222222222222,\"#7201a8\"],[0.3333333333333333,\"#9c179e\"],[0.4444444444444444,\"#bd3786\"],[0.5555555555555556,\"#d8576b\"],[0.6666666666666666,\"#ed7953\"],[0.7777777777777778,\"#fb9f3a\"],[0.8888888888888888,\"#fdca26\"],[1.0,\"#f0f921\"]]},\"legend\":{\"itemsizing\":\"constant\",\"tracegroupgap\":0},\"mapbox\":{\"accesstoken\":\"pk.eyJ1IjoiZWxsaXNwODUiLCJhIjoiY2t0ZzF2dnY3MGR3ZDJucG4zdTVlZWFieiJ9._WUpPSuypuz0DPQapETXsA\",\"center\":{\"lat\":37.76019350684932,\"lon\":-122.43912380821916},\"domain\":{\"x\":[0.0,1.0],\"y\":[0.0,1.0]},\"zoom\":10},\"margin\":{\"t\":60},\"template\":{\"data\":{\"bar\":[{\"error_x\":{\"color\":\"#2a3f5f\"},\"error_y\":{\"color\":\"#2a3f5f\"},\"marker\":{\"line\":{\"color\":\"#E5ECF6\",\"width\":0.5},\"pattern\":{\"fillmode\":\"overlay\",\"size\":10,\"solidity\":0.2}},\"type\":\"bar\"}],\"barpolar\":[{\"marker\":{\"line\":{\"color\":\"#E5ECF6\",\"width\":0.5},\"pattern\":{\"fillmode\":\"overlay\",\"size\":10,\"solidity\":0.2}},\"type\":\"barpolar\"}],\"carpet\":[{\"aaxis\":{\"endlinecolor\":\"#2a3f5f\",\"gridcolor\":\"white\",\"linecolor\":\"white\",\"minorgridcolor\":\"white\",\"startlinecolor\":\"#2a3f5f\"},\"baxis\":{\"endlinecolor\":\"#2a3f5f\",\"gridcolor\":\"white\",\"linecolor\":\"white\",\"minorgridcolor\":\"white\",\"startlinecolor\":\"#2a3f5f\"},\"type\":\"carpet\"}],\"choropleth\":[{\"colorbar\":{\"outlinewidth\":0,\"ticks\":\"\"},\"type\":\"choropleth\"}],\"contour\":[{\"colorbar\":{\"outlinewidth\":0,\"ticks\":\"\"},\"colorscale\":[[0.0,\"#0d0887\"],[0.1111111111111111,\"#46039f\"],[0.2222222222222222,\"#7201a8\"],[0.3333333333333333,\"#9c179e\"],[0.4444444444444444,\"#bd3786\"],[0.5555555555555556,\"#d8576b\"],[0.6666666666666666,\"#ed7953\"],[0.7777777777777778,\"#fb9f3a\"],[0.8888888888888888,\"#fdca26\"],[1.0,\"#f0f921\"]],\"type\":\"contour\"}],\"contourcarpet\":[{\"colorbar\":{\"outlinewidth\":0,\"ticks\":\"\"},\"type\":\"contourcarpet\"}],\"heatmap\":[{\"colorbar\":{\"outlinewidth\":0,\"ticks\":\"\"},\"colorscale\":[[0.0,\"#0d0887\"],[0.1111111111111111,\"#46039f\"],[0.2222222222222222,\"#7201a8\"],[0.3333333333333333,\"#9c179e\"],[0.4444444444444444,\"#bd3786\"],[0.5555555555555556,\"#d8576b\"],[0.6666666666666666,\"#ed7953\"],[0.7777777777777778,\"#fb9f3a\"],[0.8888888888888888,\"#fdca26\"],[1.0,\"#f0f921\"]],\"type\":\"heatmap\"}],\"heatmapgl\":[{\"colorbar\":{\"outlinewidth\":0,\"ticks\":\"\"},\"colorscale\":[[0.0,\"#0d0887\"],[0.1111111111111111,\"#46039f\"],[0.2222222222222222,\"#7201a8\"],[0.3333333333333333,\"#9c179e\"],[0.4444444444444444,\"#bd3786\"],[0.5555555555555556,\"#d8576b\"],[0.6666666666666666,\"#ed7953\"],[0.7777777777777778,\"#fb9f3a\"],[0.8888888888888888,\"#fdca26\"],[1.0,\"#f0f921\"]],\"type\":\"heatmapgl\"}],\"histogram\":[{\"marker\":{\"pattern\":{\"fillmode\":\"overlay\",\"size\":10,\"solidity\":0.2}},\"type\":\"histogram\"}],\"histogram2d\":[{\"colorbar\":{\"outlinewidth\":0,\"ticks\":\"\"},\"colorscale\":[[0.0,\"#0d0887\"],[0.1111111111111111,\"#46039f\"],[0.2222222222222222,\"#7201a8\"],[0.3333333333333333,\"#9c179e\"],[0.4444444444444444,\"#bd3786\"],[0.5555555555555556,\"#d8576b\"],[0.6666666666666666,\"#ed7953\"],[0.7777777777777778,\"#fb9f3a\"],[0.8888888888888888,\"#fdca26\"],[1.0,\"#f0f921\"]],\"type\":\"histogram2d\"}],\"histogram2dcontour\":[{\"colorbar\":{\"outlinewidth\":0,\"ticks\":\"\"},\"colorscale\":[[0.0,\"#0d0887\"],[0.1111111111111111,\"#46039f\"],[0.2222222222222222,\"#7201a8\"],[0.3333333333333333,\"#9c179e\"],[0.4444444444444444,\"#bd3786\"],[0.5555555555555556,\"#d8576b\"],[0.6666666666666666,\"#ed7953\"],[0.7777777777777778,\"#fb9f3a\"],[0.8888888888888888,\"#fdca26\"],[1.0,\"#f0f921\"]],\"type\":\"histogram2dcontour\"}],\"mesh3d\":[{\"colorbar\":{\"outlinewidth\":0,\"ticks\":\"\"},\"type\":\"mesh3d\"}],\"parcoords\":[{\"line\":{\"colorbar\":{\"outlinewidth\":0,\"ticks\":\"\"}},\"type\":\"parcoords\"}],\"pie\":[{\"automargin\":true,\"type\":\"pie\"}],\"scatter\":[{\"marker\":{\"colorbar\":{\"outlinewidth\":0,\"ticks\":\"\"}},\"type\":\"scatter\"}],\"scatter3d\":[{\"line\":{\"colorbar\":{\"outlinewidth\":0,\"ticks\":\"\"}},\"marker\":{\"colorbar\":{\"outlinewidth\":0,\"ticks\":\"\"}},\"type\":\"scatter3d\"}],\"scattercarpet\":[{\"marker\":{\"colorbar\":{\"outlinewidth\":0,\"ticks\":\"\"}},\"type\":\"scattercarpet\"}],\"scattergeo\":[{\"marker\":{\"colorbar\":{\"outlinewidth\":0,\"ticks\":\"\"}},\"type\":\"scattergeo\"}],\"scattergl\":[{\"marker\":{\"colorbar\":{\"outlinewidth\":0,\"ticks\":\"\"}},\"type\":\"scattergl\"}],\"scattermapbox\":[{\"marker\":{\"colorbar\":{\"outlinewidth\":0,\"ticks\":\"\"}},\"type\":\"scattermapbox\"}],\"scatterpolar\":[{\"marker\":{\"colorbar\":{\"outlinewidth\":0,\"ticks\":\"\"}},\"type\":\"scatterpolar\"}],\"scatterpolargl\":[{\"marker\":{\"colorbar\":{\"outlinewidth\":0,\"ticks\":\"\"}},\"type\":\"scatterpolargl\"}],\"scatterternary\":[{\"marker\":{\"colorbar\":{\"outlinewidth\":0,\"ticks\":\"\"}},\"type\":\"scatterternary\"}],\"surface\":[{\"colorbar\":{\"outlinewidth\":0,\"ticks\":\"\"},\"colorscale\":[[0.0,\"#0d0887\"],[0.1111111111111111,\"#46039f\"],[0.2222222222222222,\"#7201a8\"],[0.3333333333333333,\"#9c179e\"],[0.4444444444444444,\"#bd3786\"],[0.5555555555555556,\"#d8576b\"],[0.6666666666666666,\"#ed7953\"],[0.7777777777777778,\"#fb9f3a\"],[0.8888888888888888,\"#fdca26\"],[1.0,\"#f0f921\"]],\"type\":\"surface\"}],\"table\":[{\"cells\":{\"fill\":{\"color\":\"#EBF0F8\"},\"line\":{\"color\":\"white\"}},\"header\":{\"fill\":{\"color\":\"#C8D4E3\"},\"line\":{\"color\":\"white\"}},\"type\":\"table\"}]},\"layout\":{\"annotationdefaults\":{\"arrowcolor\":\"#2a3f5f\",\"arrowhead\":0,\"arrowwidth\":1},\"autotypenumbers\":\"strict\",\"coloraxis\":{\"colorbar\":{\"outlinewidth\":0,\"ticks\":\"\"}},\"colorscale\":{\"diverging\":[[0,\"#8e0152\"],[0.1,\"#c51b7d\"],[0.2,\"#de77ae\"],[0.3,\"#f1b6da\"],[0.4,\"#fde0ef\"],[0.5,\"#f7f7f7\"],[0.6,\"#e6f5d0\"],[0.7,\"#b8e186\"],[0.8,\"#7fbc41\"],[0.9,\"#4d9221\"],[1,\"#276419\"]],\"sequential\":[[0.0,\"#0d0887\"],[0.1111111111111111,\"#46039f\"],[0.2222222222222222,\"#7201a8\"],[0.3333333333333333,\"#9c179e\"],[0.4444444444444444,\"#bd3786\"],[0.5555555555555556,\"#d8576b\"],[0.6666666666666666,\"#ed7953\"],[0.7777777777777778,\"#fb9f3a\"],[0.8888888888888888,\"#fdca26\"],[1.0,\"#f0f921\"]],\"sequentialminus\":[[0.0,\"#0d0887\"],[0.1111111111111111,\"#46039f\"],[0.2222222222222222,\"#7201a8\"],[0.3333333333333333,\"#9c179e\"],[0.4444444444444444,\"#bd3786\"],[0.5555555555555556,\"#d8576b\"],[0.6666666666666666,\"#ed7953\"],[0.7777777777777778,\"#fb9f3a\"],[0.8888888888888888,\"#fdca26\"],[1.0,\"#f0f921\"]]},\"colorway\":[\"#636efa\",\"#EF553B\",\"#00cc96\",\"#ab63fa\",\"#FFA15A\",\"#19d3f3\",\"#FF6692\",\"#B6E880\",\"#FF97FF\",\"#FECB52\"],\"font\":{\"color\":\"#2a3f5f\"},\"geo\":{\"bgcolor\":\"white\",\"lakecolor\":\"white\",\"landcolor\":\"#E5ECF6\",\"showlakes\":true,\"showland\":true,\"subunitcolor\":\"white\"},\"hoverlabel\":{\"align\":\"left\"},\"hovermode\":\"closest\",\"mapbox\":{\"style\":\"light\"},\"paper_bgcolor\":\"white\",\"plot_bgcolor\":\"#E5ECF6\",\"polar\":{\"angularaxis\":{\"gridcolor\":\"white\",\"linecolor\":\"white\",\"ticks\":\"\"},\"bgcolor\":\"#E5ECF6\",\"radialaxis\":{\"gridcolor\":\"white\",\"linecolor\":\"white\",\"ticks\":\"\"}},\"scene\":{\"xaxis\":{\"backgroundcolor\":\"#E5ECF6\",\"gridcolor\":\"white\",\"gridwidth\":2,\"linecolor\":\"white\",\"showbackground\":true,\"ticks\":\"\",\"zerolinecolor\":\"white\"},\"yaxis\":{\"backgroundcolor\":\"#E5ECF6\",\"gridcolor\":\"white\",\"gridwidth\":2,\"linecolor\":\"white\",\"showbackground\":true,\"ticks\":\"\",\"zerolinecolor\":\"white\"},\"zaxis\":{\"backgroundcolor\":\"#E5ECF6\",\"gridcolor\":\"white\",\"gridwidth\":2,\"linecolor\":\"white\",\"showbackground\":true,\"ticks\":\"\",\"zerolinecolor\":\"white\"}},\"shapedefaults\":{\"line\":{\"color\":\"#2a3f5f\"}},\"ternary\":{\"aaxis\":{\"gridcolor\":\"white\",\"linecolor\":\"white\",\"ticks\":\"\"},\"baxis\":{\"gridcolor\":\"white\",\"linecolor\":\"white\",\"ticks\":\"\"},\"bgcolor\":\"#E5ECF6\",\"caxis\":{\"gridcolor\":\"white\",\"linecolor\":\"white\",\"ticks\":\"\"}},\"title\":{\"x\":0.05},\"xaxis\":{\"automargin\":true,\"gridcolor\":\"white\",\"linecolor\":\"white\",\"ticks\":\"\",\"title\":{\"standoff\":15},\"zerolinecolor\":\"white\",\"zerolinewidth\":2},\"yaxis\":{\"automargin\":true,\"gridcolor\":\"white\",\"linecolor\":\"white\",\"ticks\":\"\",\"title\":{\"standoff\":15},\"zerolinecolor\":\"white\",\"zerolinewidth\":2}}}},\"margin\":[5,5,5,5],\"name\":\"Plotly05367\",\"viewport_update_throttle\":200},\"id\":\"3956\",\"type\":\"panel.models.plotly.PlotlyPlot\"},{\"attributes\":{},\"id\":\"4425\",\"type\":\"BasicTicker\"},{\"attributes\":{},\"id\":\"4394\",\"type\":\"UnionRenderers\"},{\"attributes\":{\"end\":422632.009657082,\"reset_end\":422632.009657082,\"reset_start\":0.0,\"tags\":[[[\"value\",\"value\",null]]]},\"id\":\"3960\",\"type\":\"Range1d\"},{\"attributes\":{\"axis_label\":\"Avg Sales Price per Square Foot\",\"formatter\":{\"id\":\"4455\"},\"major_label_policy\":{\"id\":\"4454\"},\"ticker\":{\"id\":\"4425\"}},\"id\":\"4424\",\"type\":\"LinearAxis\"},{\"attributes\":{\"callback\":null,\"renderers\":[{\"id\":\"4066\"}],\"tags\":[\"hv_created\"],\"tooltips\":[[\"year\",\"@{year}\"],[\"gross_rent\",\"@{gross_rent}\"]]},\"id\":\"4029\",\"type\":\"HoverTool\"},{\"attributes\":{\"active_multi\":null,\"tools\":[{\"id\":\"4076\"},{\"id\":\"4094\"},{\"id\":\"4095\"},{\"id\":\"4096\"},{\"id\":\"4097\"},{\"id\":\"4098\"}]},\"id\":\"4100\",\"type\":\"Toolbar\"},{\"attributes\":{},\"id\":\"4094\",\"type\":\"SaveTool\"},{\"attributes\":{\"end\":4705.1,\"reset_end\":4705.1,\"reset_start\":923.9,\"start\":923.9,\"tags\":[[[\"gross_rent\",\"gross_rent\",null]]]},\"id\":\"4028\",\"type\":\"Range1d\"},{\"attributes\":{\"line_alpha\":0.2,\"line_color\":\"#30a2da\",\"line_width\":2,\"x\":{\"field\":\"year\"},\"y\":{\"field\":\"sale_price_sqr_foot\"}},\"id\":\"4369\",\"type\":\"Line\"},{\"attributes\":{},\"id\":\"4455\",\"type\":\"BasicTickFormatter\"},{\"attributes\":{},\"id\":\"4095\",\"type\":\"PanTool\"},{\"attributes\":{\"active_multi\":null,\"tools\":[{\"id\":\"4029\"},{\"id\":\"4047\"},{\"id\":\"4048\"},{\"id\":\"4049\"},{\"id\":\"4050\"},{\"id\":\"4051\"}]},\"id\":\"4053\",\"type\":\"Toolbar\"},{\"attributes\":{\"client_comm_id\":\"ada033c32f964ba1b00ac5cd7ba2258d\",\"comm_id\":\"e5c9b3fda9514a658fa87577a9d9af4f\",\"plot_id\":\"3953\"},\"id\":\"4993\",\"type\":\"panel.models.comm_manager.CommManager\"},{\"attributes\":{\"source\":{\"id\":\"4441\"}},\"id\":\"4448\",\"type\":\"CDSView\"},{\"attributes\":{},\"id\":\"4096\",\"type\":\"WheelZoomTool\"},{\"attributes\":{},\"id\":\"4352\",\"type\":\"PanTool\"},{\"attributes\":{\"active_multi\":null,\"tools\":[{\"id\":\"4333\"},{\"id\":\"4351\"},{\"id\":\"4352\"},{\"id\":\"4353\"},{\"id\":\"4354\"},{\"id\":\"4355\"}]},\"id\":\"4357\",\"type\":\"Toolbar\"},{\"attributes\":{\"overlay\":{\"id\":\"4099\"}},\"id\":\"4097\",\"type\":\"BoxZoomTool\"},{\"attributes\":{},\"id\":\"4428\",\"type\":\"SaveTool\"},{\"attributes\":{\"js_property_callbacks\":{\"change:active\":[{\"id\":\"4868\"}]},\"margin\":[0,0,0,0],\"tabs\":[{\"id\":\"3957\"},{\"id\":\"4328\"},{\"id\":\"4555\"}]},\"id\":\"3953\",\"type\":\"Tabs\"},{\"attributes\":{\"text\":\"neighborhood: Alamo Square\",\"text_color\":\"black\",\"text_font_size\":\"12pt\"},\"id\":\"4335\",\"type\":\"Title\"},{\"attributes\":{\"data\":{\"sale_price_sqr_foot\":{\"__ndarray__\":\"tgKjeIIVd0Dn7CdydF51QGhijk899nhAZhKk2Jo5fkDGKCTbN2KBQPMTFqRSxINATx33UCbNhUA=\",\"dtype\":\"float64\",\"order\":\"little\",\"shape\":[7]},\"year\":[2010,2011,2012,2013,2014,2015,2016]},\"selected\":{\"id\":\"4108\"},\"selection_policy\":{\"id\":\"4142\"}},\"id\":\"4107\",\"type\":\"ColumnDataSource\"},{\"attributes\":{},\"id\":\"4429\",\"type\":\"PanTool\"},{\"attributes\":{\"axis_label\":\"Year\",\"formatter\":{\"id\":\"4071\"},\"major_label_policy\":{\"id\":\"4070\"},\"ticker\":{\"id\":\"4040\"}},\"id\":\"4039\",\"type\":\"LinearAxis\"},{\"attributes\":{},\"id\":\"4353\",\"type\":\"WheelZoomTool\"},{\"attributes\":{\"children\":[{\"id\":\"3962\"},{\"id\":\"4147\"}],\"margin\":[0,0,0,0],\"name\":\"Column05214\"},\"id\":\"3958\",\"type\":\"Column\"},{\"attributes\":{},\"id\":\"4430\",\"type\":\"WheelZoomTool\"},{\"attributes\":{},\"id\":\"4098\",\"type\":\"ResetTool\"},{\"attributes\":{\"line_alpha\":0.1,\"line_color\":\"red\",\"line_width\":2,\"x\":{\"field\":\"year\"},\"y\":{\"field\":\"gross_rent\"}},\"id\":\"4064\",\"type\":\"Line\"},{\"attributes\":{\"active_multi\":null,\"tools\":[{\"id\":\"4479\"},{\"id\":\"4496\"},{\"id\":\"4497\"},{\"id\":\"4498\"},{\"id\":\"4499\"},{\"id\":\"4500\"}]},\"id\":\"4502\",\"type\":\"Toolbar\"},{\"attributes\":{\"overlay\":{\"id\":\"4356\"}},\"id\":\"4354\",\"type\":\"BoxZoomTool\"},{\"attributes\":{\"data\":{\"Variable\":[\"housing_units\",\"housing_units\",\"housing_units\",\"housing_units\",\"housing_units\",\"housing_units\",\"housing_units\",\"sale_price_sqr_foot\",\"sale_price_sqr_foot\",\"sale_price_sqr_foot\",\"sale_price_sqr_foot\",\"sale_price_sqr_foot\",\"sale_price_sqr_foot\",\"sale_price_sqr_foot\",\"gross_rent\",\"gross_rent\",\"gross_rent\",\"gross_rent\",\"gross_rent\",\"gross_rent\",\"gross_rent\"],\"value\":{\"__ndarray__\":\"AAAAAEC9FkEAAAAArNsWQQAAAAAY+hZBAAAAAIQYF0EAAAAA8DYXQQAAAABcVRdBAAAAAMhzF0G1AqN4ghV3QOjsJ3J0XnVAaGKOTz32eEBoEqTYmjl+QMcoJNs3YoFA8RMWpFLEg0BPHfdQJs2FQAAAAAAAXJNAAAAAAADol0AAAAAAACiiQAAAAAAANqdAAAAAAACQq0AAAAAAADatQAAAAAAAJrFA\",\"dtype\":\"float64\",\"order\":\"little\",\"shape\":[21]},\"xoffsets\":[[\"2010\",\"housing_units\"],[\"2011\",\"housing_units\"],[\"2012\",\"housing_units\"],[\"2013\",\"housing_units\"],[\"2014\",\"housing_units\"],[\"2015\",\"housing_units\"],[\"2016\",\"housing_units\"],[\"2010\",\"sale_price_sqr_foot\"],[\"2011\",\"sale_price_sqr_foot\"],[\"2012\",\"sale_price_sqr_foot\"],[\"2013\",\"sale_price_sqr_foot\"],[\"2014\",\"sale_price_sqr_foot\"],[\"2015\",\"sale_price_sqr_foot\"],[\"2016\",\"sale_price_sqr_foot\"],[\"2010\",\"gross_rent\"],[\"2011\",\"gross_rent\"],[\"2012\",\"gross_rent\"],[\"2013\",\"gross_rent\"],[\"2014\",\"gross_rent\"],[\"2015\",\"gross_rent\"],[\"2016\",\"gross_rent\"]],\"year\":[\"2010\",\"2011\",\"2012\",\"2013\",\"2014\",\"2015\",\"2016\",\"2010\",\"2011\",\"2012\",\"2013\",\"2014\",\"2015\",\"2016\",\"2010\",\"2011\",\"2012\",\"2013\",\"2014\",\"2015\",\"2016\"]},\"selected\":{\"id\":\"3993\"},\"selection_policy\":{\"id\":\"4016\"}},\"id\":\"3992\",\"type\":\"ColumnDataSource\"},{\"attributes\":{\"callback\":null,\"renderers\":[{\"id\":\"4447\"}],\"tags\":[\"hv_created\"],\"tooltips\":[[\"neighborhood\",\"@{neighborhood}\"],[\"sale_price_sqr_foot\",\"@{sale_price_sqr_foot}\"]]},\"id\":\"4411\",\"type\":\"HoverTool\"},{\"attributes\":{\"overlay\":{\"id\":\"4433\"}},\"id\":\"4431\",\"type\":\"BoxZoomTool\"},{\"attributes\":{},\"id\":\"4339\",\"type\":\"LinearScale\"},{\"attributes\":{\"end\":2016.0,\"reset_end\":2016.0,\"reset_start\":2010.0,\"start\":2010.0,\"tags\":[[[\"year\",\"year\",null]]]},\"id\":\"4027\",\"type\":\"Range1d\"},{\"attributes\":{\"data\":{\"sale_price_sqr_foot\":{\"__ndarray__\":\"DUc7WO0yckCafszcbwhxQIKRs5ot42ZAKDog0LQ8eEAVMinKGEd+QI4V5FDt0IJAVCHcmLVPdUA=\",\"dtype\":\"float64\",\"order\":\"little\",\"shape\":[7]},\"year\":[2010,2011,2012,2013,2014,2015,2016]},\"selected\":{\"id\":\"4365\"},\"selection_policy\":{\"id\":\"4394\"}},\"id\":\"4364\",\"type\":\"ColumnDataSource\"},{\"attributes\":{\"text\":\"Average Gross Rent by Year\",\"text_color\":\"black\",\"text_font_size\":\"12pt\"},\"id\":\"4031\",\"type\":\"Title\"},{\"attributes\":{},\"id\":\"4355\",\"type\":\"ResetTool\"},{\"attributes\":{\"below\":[{\"id\":\"4039\"}],\"center\":[{\"id\":\"4042\"},{\"id\":\"4046\"}],\"height\":300,\"left\":[{\"id\":\"4043\"}],\"margin\":null,\"min_border_bottom\":10,\"min_border_left\":10,\"min_border_right\":10,\"min_border_top\":10,\"renderers\":[{\"id\":\"4066\"}],\"sizing_mode\":\"fixed\",\"title\":{\"id\":\"4031\"},\"toolbar\":{\"id\":\"4053\"},\"toolbar_location\":null,\"width\":700,\"x_range\":{\"id\":\"4027\"},\"x_scale\":{\"id\":\"4035\"},\"y_range\":{\"id\":\"4028\"},\"y_scale\":{\"id\":\"4037\"}},\"id\":\"4030\",\"subtype\":\"Figure\",\"type\":\"Plot\"},{\"attributes\":{},\"id\":\"4432\",\"type\":\"ResetTool\"},{\"attributes\":{\"children\":[{\"id\":\"4480\"},{\"id\":\"4551\"}],\"margin\":[0,0,0,0],\"name\":\"Row05358\"},\"id\":\"4476\",\"type\":\"Row\"},{\"attributes\":{\"data\":{\"lat\":[{\"__ndarray__\":\"LV+X4T/lQkB1AwXeyeNCQBmto6oJ3kJAvqQxWkfdQkA3cXK/Q91CQDUMHxFT4kJAVvFG5pHjQkCVYHE4899CQPjfSnZs4EJAcQM+P4zkQkDoMF9egOVCQD/G3LWE3EJAN3Fyv0PdQkCMZ9DQP+VCQMPYQpCD4kJA8WjjiLXgQkC+pDFaR91CQIxn0NA/5UJAjGfQ0D/lQkANjpJX5+BCQDdxcr9D3UJAe5+qQgPhQkDLoUW28+FCQMuhRbbz4UJA4nX9gt3cQkBJE+8AT9xCQHiXi/hO3EJAxvmbUIjgQkCVYHE4899CQAd7E0Ny4kJAlWBxOPPfQkBxAz4/jORCQIKLFTWY5kJAXW3F/rLjQkDoMF9egOVCQIP6ljld5kJAY7SOqibcQkD430p2bOBCQOAtkKD43UJAgJ9x4UDkQkCO6QlLPOBCQDdxcr9D3UJA6DBfXoDlQkD430p2bOBCQApoImx45kJACmgibHjmQkBjtI6qJtxCQD/G3LWE3EJAnDOitDfgQkBmg0wycuJCQJVgcTjz30JA6DBfXoDlQkC+h0uOO91CQJVgcTjz30JAL26jAbzhQkAZraOqCd5CQHb9gt2w3UJAcQM+P4zkQkDoMF9egOVCQBmto6oJ3kJAgJ9x4UDkQkCMZ9DQP+VCQOAtkKD43UJACmgibHjmQkDIW65+bOBCQIxn0NA/5UJA1nPS+8bjQkC+pDFaR91CQLtE9dbA3kJA6DBfXoDlQkCDL0ymCt5CQOAtkKD43UJA6DBfXoDlQkA=\",\"dtype\":\"float64\",\"order\":\"little\",\"shape\":[73]}],\"lon\":[{\"__ndarray__\":\"L26jAbyZXsA5mE2AYZxewPbuj/eqmV7A2NMOf02aXsCKH2PuWpxewLWJk/sdnF7AQ8pPqn2cXsB+VwT/W59ewC2VtyOcnF7Ad76fGi+dXsAge73745tewEPFOH8TnF7Aih9j7lqcXsAvbqMBvJlewOif4GJFm17ABCFZwAScXsDY0w5/TZpewC9uowG8mV7AL26jAbyZXsAlr84xIJ1ewIofY+5anF7AKCzxgLKdXsBOl8XE5ptewE6XxcTmm17ApFNXPsuXXsBmu0IfLJ9ewDc3picsn17AzemymNiaXsB+VwT/W59ewEjdzr7ynl7AWoEhq1ufXsB3vp8aL51ewInvxKwXnV7APj+MEB6dXsAge73745tewBY1mIbhnV7Aj+TyH9KdXsAtlbcjnJxewGiR7Xw/nV7AHcnlP6SZXsC6ZvLNNptewIofY+5anF7AIHu9++ObXsAtlbcjnJxewKuy74rgmV7Aq7LviuCZXsCP5PIf0p1ewEPFOH8TnF7ABoGVQ4ucXsDp1JXP8p5ewH5XBP9bn17AIHu9++ObXsDGM2jon55ewH5XBP9bn17A7MA5I0qdXsD27o/3qplewDihEAGHmF7Ad76fGi+dXsAge73745tewPbuj/eqmV7AHcnlP6SZXsAvbqMBvJlewGiR7Xw/nV7Aq7LviuCZXsBF14UfnJxewC9uowG8mV7AAkht4uSaXsDY0w5/TZpewC9RvTWwnV7AIHu9++ObXsD/Qo8YPZ1ewGiR7Xw/nV7AU1xV9l2ZXsA=\",\"dtype\":\"float64\",\"order\":\"little\",\"shape\":[73]}],\"marker.color\":[{\"__ndarray__\":\"SZIkSZICpkCrqqqqqq+nQM3MzMzMHKJAAAAAAAA2rUCrqqqqqhCoQKuqqqqqFaVASZIkSZICpkBJkiRJkgKmQAAAAAAAlaFAAAAAAABQo0BJkiRJkgKmQKuqqqqqFaVAAAAAAACAn0BJkiRJkgKmQAAAAACAuKVASZIkSZICpkCrqqqqqq+nQEmSJEmSAqZAAAAAAABQo0AAAAAAANabQAAAAAAAp6ZAzczMzMxSpEBJkiRJkgKmQEmSJEmSAqZAAAAAAAByo0AAAAAAAJqjQAAAAAAAIKdASZIkSZICpkAAAAAAADCpQEmSJEmSAqZASZIkSZICpkBJkiRJkgKmQFVVVVVV9qNAVVVVVVX2o0BJkiRJkgKmQEmSJEmSAqZAAAAAAACsqkAAAAAAAK+kQAAAAACA1qBAVVVVVVXPpEBVVVVVVfajQM3MzMzMyqhASZIkSZICpkBJkiRJkgKmQJqZmZmZXadAzczMzMwEpkAAAAAAAASjQAAAAACAZ6dASZIkSZICpkBJkiRJkgKmQEmSJEmSAqZASZIkSZICpkBJkiRJkgKmQFVVVVVV9qNASZIkSZICpkDNzMzMzByiQEmSJEmSAqZASZIkSZICpkBJkiRJkgKmQAAAAAAAkKtAAAAAAABmoEBJkiRJkgKmQAAAAAAAp6ZASZIkSZICpkBJkiRJkgKmQFVVVVVV9qNASZIkSZICpkAAAAAAAJKsQAAAAAAAp6NAVVVVVVX2o0AAAAAAAJWhQAAAAAAA7q5AVVVVVVX2o0A=\",\"dtype\":\"float64\",\"order\":\"little\",\"shape\":[73]}],\"marker.size\":[{\"__ndarray__\":\"cJyd1VTgdkAj1Xd7HVZ3QMu7p//VkmlA/23ou1d2gkCwicLO+AWCQODeULPjSnxAkiM5JcKmeEDwRHrAAXt6QGEgnA3rc35AdiCNAlBcgkALV25bts+EQC6aqyMR8HJADTYuKt4ve0BAExo283Z4QAT0IiSWaX9Azb8HR/0RhECLIKw8QUx4QEysfO/MdXhARl0VIGF9fEDnKA0RdB10QMj/9wKcfoNAa+R3ASb7g0BCjahYtxh8QD+b/9zsPnZABT/1V/9TZUCYt5qCUv52QPiqSlDEDHhAfmgaicfaeECrA3m3FTuAQOA5W0+CqXdAyXixJK7aeUCo3p7PEouAQBsbzgZFn3lA1YI2J6jjfUACLzpc59mAQOp1/4D+PYJAfSK5L8KmiEDjM3wxFTSBQFx/3pp8XohAcr9Bp4mxgUC9Hcljpi56QAabwse6W4BAhQqU+EOjfEAzwd8Vi/OAQA1GhppZunlANoyg6lAkf0A0VzbjjqF0QGKNxdbeS25ATpTGpG5QfkAuXEiRaZ59QGJw/yeBo3hAFpsVUHKMhUAzVprHuVt3QBQ4ODjDAnVAYJzjcuzFg0CUVGKj0nF0QJrMCuEbsIRAy835O80ahUBvvf+g3QeDQNMptI5cSWVAya3y7v5QhECG4cLhK9KBQP9hf/GLgoBAvQqFeA0khUCLIC7GYFZ9QCUQFDHyP4xAR1RQI2dCeUCgCCJ5dddyQMr0d9XQJ39AXmt0xv44c0BA3+aooa2AQGvQRFqzeIVAg478xK0FgkA=\",\"dtype\":\"float64\",\"order\":\"little\",\"shape\":[73]}]},\"selected\":{\"id\":\"4558\"},\"selection_policy\":{\"id\":\"4559\"}},\"id\":\"3955\",\"type\":\"ColumnDataSource\"},{\"attributes\":{\"bottom\":{\"value\":0},\"fill_alpha\":{\"value\":1.0},\"fill_color\":{\"field\":\"Variable\",\"transform\":{\"id\":\"4509\"}},\"hatch_alpha\":{\"value\":1.0},\"hatch_color\":{\"value\":\"black\"},\"hatch_scale\":{\"value\":12.0},\"hatch_weight\":{\"value\":1.0},\"line_alpha\":{\"value\":1.0},\"line_cap\":{\"value\":\"butt\"},\"line_color\":{\"value\":\"black\"},\"line_dash\":{\"value\":[]},\"line_dash_offset\":{\"value\":0},\"line_join\":{\"value\":\"bevel\"},\"line_width\":{\"value\":1},\"top\":{\"field\":\"Num_Housing_Units\"},\"width\":{\"value\":0.8},\"x\":{\"field\":\"xoffsets\"}},\"id\":\"4518\",\"type\":\"VBar\"},{\"attributes\":{},\"id\":\"4002\",\"type\":\"AllLabels\"},{\"attributes\":{},\"id\":\"4452\",\"type\":\"CategoricalTickFormatter\"},{\"attributes\":{},\"id\":\"4035\",\"type\":\"LinearScale\"},{\"attributes\":{\"data\":{\"neighborhood\":[\"Union Square District\",\"Merced Heights\",\"Miraloma Park\",\"Pacific Heights\",\"Westwood Park\",\"Telegraph Hill\",\"Presidio Heights\",\"Cow Hollow\",\"Potrero Hill\",\"South Beach\"],\"sale_price_sqr_foot\":{\"__ndarray__\":\"JRAUMfI/jEB9IrkvwqaIQFx/3pp8XohAFpsVUHKMhUBr0ERas3iFQL0KhXgNJIVAy835O80ahUALV25bts+EQJrMCuEbsIRAya3y7v5QhEA=\",\"dtype\":\"float64\",\"order\":\"little\",\"shape\":[10]}},\"selected\":{\"id\":\"4442\"},\"selection_policy\":{\"id\":\"4465\"}},\"id\":\"4441\",\"type\":\"ColumnDataSource\"},{\"attributes\":{\"reload\":false},\"id\":\"5180\",\"type\":\"panel.models.location.Location\"},{\"attributes\":{\"bottom_units\":\"screen\",\"fill_alpha\":0.5,\"fill_color\":\"lightgrey\",\"left_units\":\"screen\",\"level\":\"overlay\",\"line_alpha\":1.0,\"line_color\":\"black\",\"line_dash\":[4,4],\"line_width\":2,\"right_units\":\"screen\",\"syncable\":false,\"top_units\":\"screen\"},\"id\":\"4433\",\"type\":\"BoxAnnotation\"},{\"attributes\":{},\"id\":\"4442\",\"type\":\"Selection\"},{\"attributes\":{\"factors\":[\"Union Square District\",\"Merced Heights\",\"Miraloma Park\",\"Pacific Heights\",\"Westwood Park\",\"Telegraph Hill\",\"Presidio Heights\",\"Cow Hollow\",\"Potrero Hill\",\"South Beach\"],\"tags\":[[[\"neighborhood\",\"neighborhood\",null]]]},\"id\":\"4409\",\"type\":\"FactorRange\"},{\"attributes\":{},\"id\":\"4451\",\"type\":\"AllLabels\"},{\"attributes\":{},\"id\":\"4037\",\"type\":\"LinearScale\"},{\"attributes\":{\"bottom_units\":\"screen\",\"fill_alpha\":0.5,\"fill_color\":\"lightgrey\",\"left_units\":\"screen\",\"level\":\"overlay\",\"line_alpha\":1.0,\"line_color\":\"black\",\"line_dash\":[4,4],\"line_width\":2,\"right_units\":\"screen\",\"syncable\":false,\"top_units\":\"screen\"},\"id\":\"4099\",\"type\":\"BoxAnnotation\"},{\"attributes\":{\"axis\":{\"id\":\"4043\"},\"dimension\":1,\"grid_line_color\":null,\"ticker\":null},\"id\":\"4046\",\"type\":\"Grid\"},{\"attributes\":{\"fill_color\":{\"field\":\"Variable\",\"transform\":{\"id\":\"4509\"}},\"top\":{\"field\":\"Num_Housing_Units\"},\"width\":{\"value\":0.8},\"x\":{\"field\":\"xoffsets\"}},\"id\":\"4513\",\"type\":\"VBar\"},{\"attributes\":{},\"id\":\"4454\",\"type\":\"AllLabels\"},{\"attributes\":{},\"id\":\"4040\",\"type\":\"BasicTicker\"},{\"attributes\":{\"margin\":[5,5,5,5],\"name\":\"VSpacer05350\",\"sizing_mode\":\"stretch_height\"},\"id\":\"4408\",\"type\":\"Spacer\"},{\"attributes\":{\"axis\":{\"id\":\"4039\"},\"grid_line_color\":null,\"ticker\":null},\"id\":\"4042\",\"type\":\"Grid\"},{\"attributes\":{\"bottom\":{\"value\":0},\"fill_alpha\":{\"value\":1.0},\"fill_color\":{\"value\":\"#30a2da\"},\"hatch_alpha\":{\"value\":1.0},\"hatch_color\":{\"value\":\"black\"},\"hatch_scale\":{\"value\":12.0},\"hatch_weight\":{\"value\":1.0},\"line_alpha\":{\"value\":1.0},\"line_cap\":{\"value\":\"butt\"},\"line_color\":{\"value\":\"black\"},\"line_dash\":{\"value\":[]},\"line_dash_offset\":{\"value\":0},\"line_join\":{\"value\":\"bevel\"},\"line_width\":{\"value\":1},\"top\":{\"field\":\"sale_price_sqr_foot\"},\"width\":{\"value\":0.8},\"x\":{\"field\":\"neighborhood\"}},\"id\":\"4449\",\"type\":\"VBar\"},{\"attributes\":{\"bottom_units\":\"screen\",\"fill_alpha\":0.5,\"fill_color\":\"lightgrey\",\"left_units\":\"screen\",\"level\":\"overlay\",\"line_alpha\":1.0,\"line_color\":\"black\",\"line_dash\":[4,4],\"line_width\":2,\"right_units\":\"screen\",\"syncable\":false,\"top_units\":\"screen\"},\"id\":\"4356\",\"type\":\"BoxAnnotation\"},{\"attributes\":{\"data_source\":{\"id\":\"4441\"},\"glyph\":{\"id\":\"4444\"},\"hover_glyph\":null,\"muted_glyph\":{\"id\":\"4446\"},\"nonselection_glyph\":{\"id\":\"4445\"},\"selection_glyph\":{\"id\":\"4449\"},\"view\":{\"id\":\"4448\"}},\"id\":\"4447\",\"type\":\"GlyphRenderer\"},{\"attributes\":{},\"id\":\"4341\",\"type\":\"LinearScale\"},{\"attributes\":{},\"id\":\"4044\",\"type\":\"BasicTicker\"},{\"attributes\":{\"child\":{\"id\":\"4329\"},\"name\":\"Column05366\",\"title\":\"Neighborhood Analysis\"},\"id\":\"4555\",\"type\":\"Panel\"},{\"attributes\":{\"fill_color\":{\"value\":\"#30a2da\"},\"top\":{\"field\":\"sale_price_sqr_foot\"},\"width\":{\"value\":0.8},\"x\":{\"field\":\"neighborhood\"}},\"id\":\"4444\",\"type\":\"VBar\"},{\"attributes\":{\"axis_label\":\"Price per Sqft\",\"formatter\":{\"id\":\"4074\"},\"major_label_policy\":{\"id\":\"4073\"},\"ticker\":{\"id\":\"4044\"}},\"id\":\"4043\",\"type\":\"LinearAxis\"},{\"attributes\":{\"data_source\":{\"id\":\"4107\"},\"glyph\":{\"id\":\"4110\"},\"hover_glyph\":null,\"muted_glyph\":{\"id\":\"4112\"},\"nonselection_glyph\":{\"id\":\"4111\"},\"selection_glyph\":{\"id\":\"4115\"},\"view\":{\"id\":\"4114\"}},\"id\":\"4113\",\"type\":\"GlyphRenderer\"},{\"attributes\":{\"active_multi\":null,\"tools\":[{\"id\":\"4411\"},{\"id\":\"4428\"},{\"id\":\"4429\"},{\"id\":\"4430\"},{\"id\":\"4431\"},{\"id\":\"4432\"}]},\"id\":\"4434\",\"type\":\"Toolbar\"},{\"attributes\":{\"source\":{\"id\":\"4364\"}},\"id\":\"4371\",\"type\":\"CDSView\"},{\"attributes\":{\"source\":{\"id\":\"4107\"}},\"id\":\"4114\",\"type\":\"CDSView\"},{\"attributes\":{\"line_color\":\"purple\",\"line_width\":2,\"x\":{\"field\":\"year\"},\"y\":{\"field\":\"sale_price_sqr_foot\"}},\"id\":\"4115\",\"type\":\"Line\"},{\"attributes\":{\"source\":{\"id\":\"4060\"}},\"id\":\"4067\",\"type\":\"CDSView\"},{\"attributes\":{\"children\":[{\"id\":\"4407\"}],\"css_classes\":[\"panel-widget-box\"],\"margin\":[5,5,5,5],\"name\":\"WidgetBox05345\"},\"id\":\"4406\",\"type\":\"Column\"},{\"attributes\":{\"line_color\":\"#30a2da\",\"line_width\":2,\"x\":{\"field\":\"year\"},\"y\":{\"field\":\"sale_price_sqr_foot\"}},\"id\":\"4372\",\"type\":\"Line\"},{\"attributes\":{},\"id\":\"4523\",\"type\":\"AllLabels\"},{\"attributes\":{\"line_alpha\":0.2,\"line_color\":\"red\",\"line_width\":2,\"x\":{\"field\":\"year\"},\"y\":{\"field\":\"gross_rent\"}},\"id\":\"4065\",\"type\":\"Line\"},{\"attributes\":{},\"id\":\"4374\",\"type\":\"AllLabels\"},{\"attributes\":{\"fill_alpha\":{\"value\":0.2},\"fill_color\":{\"value\":\"#30a2da\"},\"line_alpha\":{\"value\":0.2},\"top\":{\"field\":\"sale_price_sqr_foot\"},\"width\":{\"value\":0.8},\"x\":{\"field\":\"neighborhood\"}},\"id\":\"4446\",\"type\":\"VBar\"},{\"attributes\":{\"data_source\":{\"id\":\"4060\"},\"glyph\":{\"id\":\"4063\"},\"hover_glyph\":null,\"muted_glyph\":{\"id\":\"4065\"},\"nonselection_glyph\":{\"id\":\"4064\"},\"selection_glyph\":{\"id\":\"4068\"},\"view\":{\"id\":\"4067\"}},\"id\":\"4066\",\"type\":\"GlyphRenderer\"},{\"attributes\":{},\"id\":\"4377\",\"type\":\"AllLabels\"},{\"attributes\":{},\"id\":\"4465\",\"type\":\"UnionRenderers\"},{\"attributes\":{\"below\":[{\"id\":\"4421\"}],\"center\":[{\"id\":\"4423\"},{\"id\":\"4427\"}],\"height\":500,\"left\":[{\"id\":\"4424\"}],\"margin\":[5,5,5,5],\"min_border_bottom\":10,\"min_border_left\":10,\"min_border_right\":10,\"min_border_top\":10,\"renderers\":[{\"id\":\"4447\"}],\"sizing_mode\":\"fixed\",\"title\":{\"id\":\"4413\"},\"toolbar\":{\"id\":\"4434\"},\"x_range\":{\"id\":\"4409\"},\"x_scale\":{\"id\":\"4417\"},\"y_range\":{\"id\":\"4075\"},\"y_scale\":{\"id\":\"4419\"}},\"id\":\"4412\",\"subtype\":\"Figure\",\"type\":\"Plot\"},{\"attributes\":{},\"id\":\"4047\",\"type\":\"SaveTool\"},{\"attributes\":{},\"id\":\"4520\",\"type\":\"AllLabels\"},{\"attributes\":{\"text_color\":\"black\",\"text_font_size\":\"12pt\"},\"id\":\"4413\",\"type\":\"Title\"},{\"attributes\":{},\"id\":\"4048\",\"type\":\"PanTool\"},{\"attributes\":{},\"id\":\"4417\",\"type\":\"CategoricalScale\"},{\"attributes\":{\"margin\":[20,20,20,20],\"min_width\":250,\"options\":[\"Alamo Square\",\"Anza Vista\",\"Bayview\",\"Buena Vista Park\",\"Central Richmond\",\"Central Sunset\",\"Corona Heights\",\"Cow Hollow\",\"Croker Amazon\",\"Diamond Heights\",\"Downtown \",\"Eureka Valley/Dolores Heights\",\"Excelsior\",\"Financial District North\",\"Financial District South\",\"Forest Knolls\",\"Glen Park\",\"Golden Gate Heights\",\"Haight Ashbury\",\"Hayes Valley\",\"Hunters Point\",\"Ingleside \",\"Inner Mission\",\"Inner Parkside\",\"Inner Richmond\",\"Inner Sunset\",\"Jordan Park/Laurel Heights\",\"Lake --The Presidio\",\"Lone Mountain\",\"Lower Pacific Heights\",\"Marina\",\"Miraloma Park\",\"Mission Bay\",\"Mission Dolores\",\"Mission Terrace\",\"Nob Hill\",\"Noe Valley\",\"Oceanview\",\"Outer Parkside\",\"Outer Richmond \",\"Outer Sunset\",\"Pacific Heights\",\"Park North\",\"Parkside\",\"Parnassus/Ashbury Heights\",\"Portola\",\"Potrero Hill\",\"Presidio Heights\",\"Russian Hill\",\"South Beach\",\"South of Market\",\"Sunnyside\",\"Telegraph Hill\",\"Twin Peaks\",\"Union Square District\",\"Van Ness/ Civic Center\",\"West Portal\",\"Western Addition\",\"Yerba Buena\",\"Bernal Heights \",\"Clarendon Heights\",\"Duboce Triangle\",\"Ingleside Heights\",\"North Beach\",\"North Waterfront\",\"Outer Mission\",\"Westwood Highlands\",\"Merced Heights\",\"Midtown Terrace\",\"Visitacion Valley\",\"Silver Terrace\",\"Westwood Park\",\"Bayview Heights\"],\"title\":\"neighborhood\",\"value\":\"Alamo Square\",\"width\":250},\"id\":\"4407\",\"type\":\"Select\"},{\"attributes\":{\"children\":[{\"id\":\"4552\"},{\"id\":\"4554\"}],\"margin\":[0,0,0,0],\"name\":\"Column05365\"},\"id\":\"4551\",\"type\":\"Column\"},{\"attributes\":{},\"id\":\"4049\",\"type\":\"WheelZoomTool\"},{\"attributes\":{\"fill_alpha\":{\"value\":0.1},\"fill_color\":{\"value\":\"#30a2da\"},\"line_alpha\":{\"value\":0.1},\"top\":{\"field\":\"sale_price_sqr_foot\"},\"width\":{\"value\":0.8},\"x\":{\"field\":\"neighborhood\"}},\"id\":\"4445\",\"type\":\"VBar\"},{\"attributes\":{},\"id\":\"4375\",\"type\":\"BasicTickFormatter\"},{\"attributes\":{\"overlay\":{\"id\":\"4052\"}},\"id\":\"4050\",\"type\":\"BoxZoomTool\"},{\"attributes\":{},\"id\":\"4498\",\"type\":\"WheelZoomTool\"},{\"attributes\":{\"data_source\":{\"id\":\"3992\"},\"glyph\":{\"id\":\"3995\"},\"hover_glyph\":null,\"muted_glyph\":{\"id\":\"3997\"},\"nonselection_glyph\":{\"id\":\"3996\"},\"selection_glyph\":{\"id\":\"4000\"},\"view\":{\"id\":\"3999\"}},\"id\":\"3998\",\"type\":\"GlyphRenderer\"},{\"attributes\":{},\"id\":\"4005\",\"type\":\"AllLabels\"},{\"attributes\":{\"overlay\":{\"id\":\"4501\"}},\"id\":\"4499\",\"type\":\"BoxZoomTool\"},{\"attributes\":{},\"id\":\"4071\",\"type\":\"BasicTickFormatter\"},{\"attributes\":{\"axis\":{\"id\":\"4343\"},\"grid_line_color\":null,\"ticker\":null},\"id\":\"4346\",\"type\":\"Grid\"},{\"attributes\":{},\"id\":\"3978\",\"type\":\"SaveTool\"},{\"attributes\":{},\"id\":\"4051\",\"type\":\"ResetTool\"},{\"attributes\":{\"axis_label\":\"Neighborhood\",\"formatter\":{\"id\":\"4521\"},\"major_label_orientation\":1.5707963267948966,\"major_label_policy\":{\"id\":\"4520\"},\"ticker\":{\"id\":\"4490\"}},\"id\":\"4489\",\"type\":\"CategoricalAxis\"},{\"attributes\":{},\"id\":\"4131\",\"type\":\"UnionRenderers\"},{\"attributes\":{},\"id\":\"3979\",\"type\":\"PanTool\"},{\"attributes\":{},\"id\":\"4500\",\"type\":\"ResetTool\"},{\"attributes\":{},\"id\":\"4118\",\"type\":\"BasicTickFormatter\"},{\"attributes\":{},\"id\":\"3980\",\"type\":\"WheelZoomTool\"},{\"attributes\":{},\"id\":\"4348\",\"type\":\"BasicTicker\"},{\"attributes\":{},\"id\":\"4120\",\"type\":\"AllLabels\"},{\"attributes\":{\"axis_label\":\"Year\",\"formatter\":{\"id\":\"4375\"},\"major_label_policy\":{\"id\":\"4374\"},\"ticker\":{\"id\":\"4344\"}},\"id\":\"4343\",\"type\":\"LinearAxis\"},{\"attributes\":{},\"id\":\"4121\",\"type\":\"BasicTickFormatter\"},{\"attributes\":{\"children\":[{\"id\":\"4146\"},{\"id\":\"4144\"}]},\"id\":\"4147\",\"type\":\"Column\"},{\"attributes\":{\"overlay\":{\"id\":\"3983\"}},\"id\":\"3981\",\"type\":\"BoxZoomTool\"},{\"attributes\":{\"bottom_units\":\"screen\",\"fill_alpha\":0.5,\"fill_color\":\"lightgrey\",\"left_units\":\"screen\",\"level\":\"overlay\",\"line_alpha\":1.0,\"line_color\":\"black\",\"line_dash\":[4,4],\"line_width\":2,\"right_units\":\"screen\",\"syncable\":false,\"top_units\":\"screen\"},\"id\":\"4052\",\"type\":\"BoxAnnotation\"},{\"attributes\":{\"toolbar\":{\"id\":\"4145\"},\"toolbar_location\":\"above\"},\"id\":\"4146\",\"type\":\"ToolbarBox\"},{\"attributes\":{},\"id\":\"4540\",\"type\":\"UnionRenderers\"},{\"attributes\":{\"fill_alpha\":{\"value\":0.2},\"fill_color\":{\"field\":\"Variable\",\"transform\":{\"id\":\"4509\"}},\"line_alpha\":{\"value\":0.2},\"top\":{\"field\":\"Num_Housing_Units\"},\"width\":{\"value\":0.8},\"x\":{\"field\":\"xoffsets\"}},\"id\":\"4515\",\"type\":\"VBar\"},{\"attributes\":{\"bottom_units\":\"screen\",\"fill_alpha\":0.5,\"fill_color\":\"lightgrey\",\"left_units\":\"screen\",\"level\":\"overlay\",\"line_alpha\":1.0,\"line_color\":\"black\",\"line_dash\":[4,4],\"line_width\":2,\"right_units\":\"screen\",\"syncable\":false,\"top_units\":\"screen\"},\"id\":\"4501\",\"type\":\"BoxAnnotation\"},{\"attributes\":{},\"id\":\"4142\",\"type\":\"UnionRenderers\"},{\"attributes\":{},\"id\":\"3982\",\"type\":\"ResetTool\"},{\"attributes\":{\"axis_label\":\"Avg Sales Price per Square Foot\",\"formatter\":{\"id\":\"4378\"},\"major_label_policy\":{\"id\":\"4377\"},\"ticker\":{\"id\":\"4348\"}},\"id\":\"4347\",\"type\":\"LinearAxis\"},{\"attributes\":{\"children\":[[{\"id\":\"4030\"},0,0],[{\"id\":\"4077\"},0,1]]},\"id\":\"4144\",\"type\":\"GridBox\"},{\"attributes\":{},\"id\":\"4365\",\"type\":\"Selection\"},{\"attributes\":{\"bottom\":{\"value\":0},\"fill_alpha\":{\"value\":1.0},\"fill_color\":{\"field\":\"Variable\",\"transform\":{\"id\":\"3991\"}},\"hatch_alpha\":{\"value\":1.0},\"hatch_color\":{\"value\":\"black\"},\"hatch_scale\":{\"value\":12.0},\"hatch_weight\":{\"value\":1.0},\"line_alpha\":{\"value\":1.0},\"line_cap\":{\"value\":\"butt\"},\"line_color\":{\"value\":\"black\"},\"line_dash\":{\"value\":[]},\"line_dash_offset\":{\"value\":0},\"line_join\":{\"value\":\"bevel\"},\"line_width\":{\"value\":1},\"top\":{\"field\":\"value\"},\"width\":{\"value\":0.8},\"x\":{\"field\":\"xoffsets\"}},\"id\":\"4000\",\"type\":\"VBar\"},{\"attributes\":{\"callback\":null,\"renderers\":[{\"id\":\"4516\"}],\"tags\":[\"hv_created\"],\"tooltips\":[[\"year\",\"@{year}\"],[\"Variable\",\"@{Variable}\"],[\"Num Housing Units\",\"@{Num_Housing_Units}\"]]},\"id\":\"4479\",\"type\":\"HoverTool\"},{\"attributes\":{\"bottom_units\":\"screen\",\"fill_alpha\":0.5,\"fill_color\":\"lightgrey\",\"left_units\":\"screen\",\"level\":\"overlay\",\"line_alpha\":1.0,\"line_color\":\"black\",\"line_dash\":[4,4],\"line_width\":2,\"right_units\":\"screen\",\"syncable\":false,\"top_units\":\"screen\"},\"id\":\"3983\",\"type\":\"BoxAnnotation\"},{\"attributes\":{},\"id\":\"4344\",\"type\":\"BasicTicker\"},{\"attributes\":{\"factors\":[\"housing_units\",\"sale_price_sqr_foot\",\"gross_rent\"],\"palette\":[\"#30a2da\",\"#fc4f30\",\"#e5ae38\"]},\"id\":\"3991\",\"type\":\"CategoricalColorMapper\"},{\"attributes\":{\"axis\":{\"id\":\"4347\"},\"dimension\":1,\"grid_line_color\":null,\"ticker\":null},\"id\":\"4350\",\"type\":\"Grid\"},{\"attributes\":{},\"id\":\"4521\",\"type\":\"CategoricalTickFormatter\"},{\"attributes\":{},\"id\":\"4524\",\"type\":\"BasicTickFormatter\"},{\"attributes\":{\"args\":{\"model\":{\"id\":\"3956\"}},\"code\":\"model.visible = (cb_obj.active == 0);\",\"tags\":[\"plotly_tab_fix3956\"]},\"id\":\"4868\",\"type\":\"CustomJS\"},{\"attributes\":{\"line_color\":\"red\",\"line_width\":2,\"x\":{\"field\":\"year\"},\"y\":{\"field\":\"gross_rent\"}},\"id\":\"4068\",\"type\":\"Line\"},{\"attributes\":{},\"id\":\"4087\",\"type\":\"BasicTicker\"},{\"attributes\":{},\"id\":\"4559\",\"type\":\"UnionRenderers\"},{\"attributes\":{\"end\":4810.690068306854,\"reset_end\":4810.690068306854,\"reset_start\":0.0,\"tags\":[[[\"Num Housing Units\",\"Num Housing Units\",null]]]},\"id\":\"4478\",\"type\":\"Range1d\"},{\"attributes\":{\"fill_color\":{\"field\":\"Variable\",\"transform\":{\"id\":\"3991\"}},\"top\":{\"field\":\"value\"},\"width\":{\"value\":0.8},\"x\":{\"field\":\"xoffsets\"}},\"id\":\"3995\",\"type\":\"VBar\"},{\"attributes\":{\"data\":{\"Num_Housing_Units\":{\"__ndarray__\":\"DUc7WO0yckCafszcbwhxQIKRs5ot42ZAKDog0LQ8eEAVMinKGEd+QI4V5FDt0IJAVCHcmLVPdUAAAAAAAFyTQAAAAAAA6JdAAAAAAAAookAAAAAAADanQAAAAAAAkKtAAAAAAAA2rUAAAAAAACaxQA==\",\"dtype\":\"float64\",\"order\":\"little\",\"shape\":[14]},\"Variable\":[\"sale_price_sqr_foot\",\"sale_price_sqr_foot\",\"sale_price_sqr_foot\",\"sale_price_sqr_foot\",\"sale_price_sqr_foot\",\"sale_price_sqr_foot\",\"sale_price_sqr_foot\",\"gross_rent\",\"gross_rent\",\"gross_rent\",\"gross_rent\",\"gross_rent\",\"gross_rent\",\"gross_rent\"],\"xoffsets\":[[\"2010\",\"sale_price_sqr_foot\"],[\"2011\",\"sale_price_sqr_foot\"],[\"2012\",\"sale_price_sqr_foot\"],[\"2013\",\"sale_price_sqr_foot\"],[\"2014\",\"sale_price_sqr_foot\"],[\"2015\",\"sale_price_sqr_foot\"],[\"2016\",\"sale_price_sqr_foot\"],[\"2010\",\"gross_rent\"],[\"2011\",\"gross_rent\"],[\"2012\",\"gross_rent\"],[\"2013\",\"gross_rent\"],[\"2014\",\"gross_rent\"],[\"2015\",\"gross_rent\"],[\"2016\",\"gross_rent\"]],\"year\":[\"2010\",\"2011\",\"2012\",\"2013\",\"2014\",\"2015\",\"2016\",\"2010\",\"2011\",\"2012\",\"2013\",\"2014\",\"2015\",\"2016\"]},\"selected\":{\"id\":\"4511\"},\"selection_policy\":{\"id\":\"4540\"}},\"id\":\"4510\",\"type\":\"ColumnDataSource\"},{\"attributes\":{\"margin\":[5,5,5,5],\"name\":\"VSpacer05364\",\"sizing_mode\":\"stretch_height\"},\"id\":\"4554\",\"type\":\"Spacer\"},{\"attributes\":{\"below\":[{\"id\":\"4489\"}],\"center\":[{\"id\":\"4491\"},{\"id\":\"4495\"}],\"height\":400,\"left\":[{\"id\":\"4492\"}],\"margin\":[5,5,5,5],\"min_border_bottom\":10,\"min_border_left\":10,\"min_border_right\":10,\"min_border_top\":10,\"renderers\":[{\"id\":\"4516\"}],\"sizing_mode\":\"fixed\",\"title\":{\"id\":\"4481\"},\"toolbar\":{\"id\":\"4502\"},\"width\":700,\"x_range\":{\"id\":\"3959\"},\"x_scale\":{\"id\":\"4485\"},\"y_range\":{\"id\":\"4478\"},\"y_scale\":{\"id\":\"4487\"}},\"id\":\"4480\",\"subtype\":\"Figure\",\"type\":\"Plot\"},{\"attributes\":{\"active_multi\":null,\"tools\":[{\"id\":\"3961\"},{\"id\":\"3978\"},{\"id\":\"3979\"},{\"id\":\"3980\"},{\"id\":\"3981\"},{\"id\":\"3982\"}]},\"id\":\"3984\",\"type\":\"Toolbar\"},{\"attributes\":{},\"id\":\"4070\",\"type\":\"AllLabels\"},{\"attributes\":{\"end\":929.3801355198136,\"reset_end\":733.2177371101801,\"reset_start\":306.32940118646263,\"start\":0.0,\"tags\":[[[\"sale_price_sqr_foot\",\"sale_price_sqr_foot\",null]]]},\"id\":\"4075\",\"type\":\"Range1d\"},{\"attributes\":{},\"id\":\"4485\",\"type\":\"CategoricalScale\"},{\"attributes\":{},\"id\":\"4487\",\"type\":\"LinearScale\"},{\"attributes\":{\"text\":\"Housing Units in San Francisco from 2010 to 2016\",\"text_color\":\"black\",\"text_font_size\":\"12pt\"},\"id\":\"3963\",\"type\":\"Title\"},{\"attributes\":{\"source\":{\"id\":\"3992\"}},\"id\":\"3999\",\"type\":\"CDSView\"},{\"attributes\":{},\"id\":\"4497\",\"type\":\"PanTool\"},{\"attributes\":{\"fill_alpha\":{\"value\":0.1},\"fill_color\":{\"field\":\"Variable\",\"transform\":{\"id\":\"4509\"}},\"line_alpha\":{\"value\":0.1},\"top\":{\"field\":\"Num_Housing_Units\"},\"width\":{\"value\":0.8},\"x\":{\"field\":\"xoffsets\"}},\"id\":\"4514\",\"type\":\"VBar\"},{\"attributes\":{},\"id\":\"4073\",\"type\":\"AllLabels\"},{\"attributes\":{\"axis\":{\"id\":\"4086\"},\"grid_line_color\":null,\"ticker\":null},\"id\":\"4089\",\"type\":\"Grid\"},{\"attributes\":{\"below\":[{\"id\":\"3971\"}],\"center\":[{\"id\":\"3973\"},{\"id\":\"3977\"}],\"height\":300,\"left\":[{\"id\":\"3974\"}],\"margin\":[5,5,5,5],\"min_border_bottom\":10,\"min_border_left\":10,\"min_border_right\":10,\"min_border_top\":10,\"renderers\":[{\"id\":\"3998\"}],\"sizing_mode\":\"fixed\",\"title\":{\"id\":\"3963\"},\"toolbar\":{\"id\":\"3984\"},\"width\":700,\"x_range\":{\"id\":\"3959\"},\"x_scale\":{\"id\":\"3967\"},\"y_range\":{\"id\":\"3960\"},\"y_scale\":{\"id\":\"3969\"}},\"id\":\"3962\",\"subtype\":\"Figure\",\"type\":\"Plot\"},{\"attributes\":{},\"id\":\"4003\",\"type\":\"CategoricalTickFormatter\"},{\"attributes\":{\"axis\":{\"id\":\"4492\"},\"dimension\":1,\"grid_line_color\":null,\"ticker\":null},\"id\":\"4495\",\"type\":\"Grid\"},{\"attributes\":{\"line_color\":\"purple\",\"line_width\":2,\"x\":{\"field\":\"year\"},\"y\":{\"field\":\"sale_price_sqr_foot\"}},\"id\":\"4110\",\"type\":\"Line\"},{\"attributes\":{},\"id\":\"4117\",\"type\":\"AllLabels\"},{\"attributes\":{\"factors\":[\"sale_price_sqr_foot\",\"gross_rent\"],\"palette\":[\"#30a2da\",\"#fc4f30\"]},\"id\":\"4509\",\"type\":\"CategoricalColorMapper\"},{\"attributes\":{\"children\":[{\"id\":\"4330\"},{\"id\":\"4412\"},{\"id\":\"4476\"}],\"margin\":[0,0,0,0],\"name\":\"Column05366\"},\"id\":\"4329\",\"type\":\"Column\"},{\"attributes\":{\"axis_label\":\"Year\",\"formatter\":{\"id\":\"4003\"},\"major_label_orientation\":1.5707963267948966,\"major_label_policy\":{\"id\":\"4002\"},\"ticker\":{\"id\":\"3972\"}},\"id\":\"3971\",\"type\":\"CategoricalAxis\"},{\"attributes\":{\"text\":\"neighborhood: Alamo Square\",\"text_color\":\"black\",\"text_font_size\":\"12pt\"},\"id\":\"4481\",\"type\":\"Title\"},{\"attributes\":{},\"id\":\"4074\",\"type\":\"BasicTickFormatter\"},{\"attributes\":{\"axis\":{\"id\":\"3974\"},\"dimension\":1,\"grid_line_color\":null,\"ticker\":null},\"id\":\"3977\",\"type\":\"Grid\"},{\"attributes\":{},\"id\":\"4490\",\"type\":\"CategoricalTicker\"},{\"attributes\":{},\"id\":\"3969\",\"type\":\"LinearScale\"},{\"attributes\":{\"callback\":null,\"renderers\":[{\"id\":\"4113\"}],\"tags\":[\"hv_created\"],\"tooltips\":[[\"year\",\"@{year}\"],[\"sale_price_sqr_foot\",\"@{sale_price_sqr_foot}\"]]},\"id\":\"4076\",\"type\":\"HoverTool\"},{\"attributes\":{},\"id\":\"3967\",\"type\":\"CategoricalScale\"},{\"attributes\":{\"axis\":{\"id\":\"4489\"},\"grid_line_color\":null,\"ticker\":null},\"id\":\"4491\",\"type\":\"Grid\"},{\"attributes\":{},\"id\":\"4084\",\"type\":\"LinearScale\"},{\"attributes\":{\"child\":{\"id\":\"3958\"},\"name\":\"Column05214\",\"title\":\"Yearly Market Analysis\"},\"id\":\"4328\",\"type\":\"Panel\"},{\"attributes\":{},\"id\":\"4558\",\"type\":\"Selection\"},{\"attributes\":{\"callback\":null,\"renderers\":[{\"id\":\"3998\"}],\"tags\":[\"hv_created\"],\"tooltips\":[[\"year\",\"@{year}\"],[\"Variable\",\"@{Variable}\"],[\"value\",\"@{value}\"]]},\"id\":\"3961\",\"type\":\"HoverTool\"},{\"attributes\":{\"axis_label\":\"Year\",\"formatter\":{\"id\":\"4118\"},\"major_label_policy\":{\"id\":\"4117\"},\"ticker\":{\"id\":\"4087\"}},\"id\":\"4086\",\"type\":\"LinearAxis\"},{\"attributes\":{},\"id\":\"4493\",\"type\":\"BasicTicker\"},{\"attributes\":{},\"id\":\"4006\",\"type\":\"BasicTickFormatter\"},{\"attributes\":{\"axis_label\":\"Num Housing Units\",\"formatter\":{\"id\":\"4524\"},\"major_label_policy\":{\"id\":\"4523\"},\"ticker\":{\"id\":\"4493\"}},\"id\":\"4492\",\"type\":\"LinearAxis\"},{\"attributes\":{\"fill_alpha\":{\"value\":0.2},\"fill_color\":{\"field\":\"Variable\",\"transform\":{\"id\":\"3991\"}},\"line_alpha\":{\"value\":0.2},\"top\":{\"field\":\"value\"},\"width\":{\"value\":0.8},\"x\":{\"field\":\"xoffsets\"}},\"id\":\"3997\",\"type\":\"VBar\"},{\"attributes\":{\"below\":[{\"id\":\"4086\"}],\"center\":[{\"id\":\"4089\"},{\"id\":\"4093\"}],\"height\":300,\"left\":[{\"id\":\"4090\"}],\"margin\":null,\"min_border_bottom\":10,\"min_border_left\":10,\"min_border_right\":10,\"min_border_top\":10,\"renderers\":[{\"id\":\"4113\"}],\"sizing_mode\":\"fixed\",\"title\":{\"id\":\"4078\"},\"toolbar\":{\"id\":\"4100\"},\"toolbar_location\":null,\"width\":700,\"x_range\":{\"id\":\"4027\"},\"x_scale\":{\"id\":\"4082\"},\"y_range\":{\"id\":\"4075\"},\"y_scale\":{\"id\":\"4084\"}},\"id\":\"4077\",\"subtype\":\"Figure\",\"type\":\"Plot\"},{\"attributes\":{\"margin\":[20,20,20,20],\"min_width\":250,\"options\":[\"Alamo Square\",\"Mission Bay\",\"Mission Dolores\",\"Mission Terrace\",\"Nob Hill\",\"Noe Valley\",\"Oceanview\",\"Outer Parkside\",\"Outer Richmond \",\"Outer Sunset\",\"Pacific Heights\",\"Park North\",\"Parnassus/Ashbury Heights\",\"Miraloma Park\",\"Portola\",\"Presidio Heights\",\"Russian Hill\",\"South Beach\",\"South of Market\",\"Sunnyside\",\"Telegraph Hill\",\"Twin Peaks\",\"Union Square District\",\"Van Ness/ Civic Center\",\"West Portal\",\"Western Addition\",\"Yerba Buena\",\"Potrero Hill\",\"Marina\",\"Parkside\",\"Lone Mountain\",\"Lower Pacific Heights\",\"Bayview\",\"Buena Vista Park\",\"Central Richmond\",\"Central Sunset\",\"Corona Heights\",\"Cow Hollow\",\"Croker Amazon\",\"Diamond Heights\",\"Downtown \",\"Eureka Valley/Dolores Heights\",\"Excelsior\",\"Financial District North\",\"Financial District South\",\"Anza Vista\",\"Inner Richmond\",\"Glen Park\",\"Golden Gate Heights\",\"Haight Ashbury\",\"Hayes Valley\",\"Hunters Point\",\"Ingleside \",\"Inner Mission\",\"Inner Parkside\",\"Forest Knolls\",\"Inner Sunset\",\"Jordan Park/Laurel Heights\",\"Lake --The Presidio\",\"Outer Mission\",\"North Beach\",\"North Waterfront\",\"Westwood Highlands\",\"Bernal Heights \",\"Clarendon Heights\",\"Duboce Triangle\",\"Ingleside Heights\",\"Midtown Terrace\",\"Merced Heights\",\"Visitacion Valley\",\"Silver Terrace\",\"Westwood Park\",\"Bayview Heights\"],\"title\":\"neighborhood\",\"value\":\"Alamo Square\",\"width\":250},\"id\":\"4553\",\"type\":\"Select\"},{\"attributes\":{},\"id\":\"4016\",\"type\":\"UnionRenderers\"},{\"attributes\":{},\"id\":\"4511\",\"type\":\"Selection\"},{\"attributes\":{},\"id\":\"3975\",\"type\":\"BasicTicker\"},{\"attributes\":{\"source\":{\"id\":\"4510\"}},\"id\":\"4517\",\"type\":\"CDSView\"},{\"attributes\":{\"children\":[{\"id\":\"4406\"},{\"id\":\"4408\"}],\"margin\":[0,0,0,0],\"name\":\"Column05351\"},\"id\":\"4405\",\"type\":\"Column\"},{\"attributes\":{\"data_source\":{\"id\":\"4510\"},\"glyph\":{\"id\":\"4513\"},\"hover_glyph\":null,\"muted_glyph\":{\"id\":\"4515\"},\"nonselection_glyph\":{\"id\":\"4514\"},\"selection_glyph\":{\"id\":\"4518\"},\"view\":{\"id\":\"4517\"}},\"id\":\"4516\",\"type\":\"GlyphRenderer\"},{\"attributes\":{},\"id\":\"3972\",\"type\":\"CategoricalTicker\"},{\"attributes\":{},\"id\":\"4108\",\"type\":\"Selection\"},{\"attributes\":{},\"id\":\"3993\",\"type\":\"Selection\"},{\"attributes\":{},\"id\":\"4082\",\"type\":\"LinearScale\"},{\"attributes\":{\"axis\":{\"id\":\"3971\"},\"grid_line_color\":null,\"ticker\":null},\"id\":\"3973\",\"type\":\"Grid\"},{\"attributes\":{},\"id\":\"4496\",\"type\":\"SaveTool\"},{\"attributes\":{\"data\":{\"gross_rent\":{\"__ndarray__\":\"AAAAAABck0AAAAAAAOiXQAAAAAAAKKJAAAAAAAA2p0AAAAAAAJCrQAAAAAAANq1AAAAAAAAmsUA=\",\"dtype\":\"float64\",\"order\":\"little\",\"shape\":[7]},\"year\":[2010,2011,2012,2013,2014,2015,2016]},\"selected\":{\"id\":\"4061\"},\"selection_policy\":{\"id\":\"4131\"}},\"id\":\"4060\",\"type\":\"ColumnDataSource\"},{\"attributes\":{\"axis_label\":\"Housing Units\",\"formatter\":{\"id\":\"4006\"},\"major_label_policy\":{\"id\":\"4005\"},\"ticker\":{\"id\":\"3975\"}},\"id\":\"3974\",\"type\":\"LinearAxis\"},{\"attributes\":{\"text\":\"Average Price per Sqft by Year\",\"text_color\":\"black\",\"text_font_size\":\"12pt\"},\"id\":\"4078\",\"type\":\"Title\"},{\"attributes\":{\"children\":[{\"id\":\"4553\"}],\"css_classes\":[\"panel-widget-box\"],\"margin\":[5,5,5,5],\"name\":\"WidgetBox05359\"},\"id\":\"4552\",\"type\":\"Column\"},{\"attributes\":{\"fill_alpha\":{\"value\":0.1},\"fill_color\":{\"field\":\"Variable\",\"transform\":{\"id\":\"3991\"}},\"line_alpha\":{\"value\":0.1},\"top\":{\"field\":\"value\"},\"width\":{\"value\":0.8},\"x\":{\"field\":\"xoffsets\"}},\"id\":\"3996\",\"type\":\"VBar\"}],\"root_ids\":[\"3953\",\"4993\",\"5180\"]},\"title\":\"Bokeh Application\",\"version\":\"2.3.3\"}};\n",
       "    var render_items = [{\"docid\":\"7462fa98-4ac6-40ef-8c4a-94d4b30b1af1\",\"root_ids\":[\"3953\"],\"roots\":{\"3953\":\"631a9d29-417c-46d0-ba53-c536b703509b\"}}];\n",
       "    root.Bokeh.embed.embed_items_notebook(docs_json, render_items);\n",
       "  }\n",
       "  if (root.Bokeh !== undefined && root.Bokeh.Panel !== undefined && ( root['Plotly'] !== undefined)) {\n",
       "    embed_document(root);\n",
       "  } else {\n",
       "    var attempts = 0;\n",
       "    var timer = setInterval(function(root) {\n",
       "      if (root.Bokeh !== undefined && root.Bokeh.Panel !== undefined && (root['Plotly'] !== undefined)) {\n",
       "        clearInterval(timer);\n",
       "        embed_document(root);\n",
       "      } else if (document.readyState == \"complete\") {\n",
       "        attempts++;\n",
       "        if (attempts > 200) {\n",
       "          clearInterval(timer);\n",
       "          console.log(\"Bokeh: ERROR: Unable to run BokehJS code because BokehJS library is missing\");\n",
       "        }\n",
       "      }\n",
       "    }, 25, root)\n",
       "  }\n",
       "})(window);</script>"
      ],
      "text/plain": [
       "Tabs\n",
       "    [0] Column\n",
       "        [0] Plotly(Figure)\n",
       "    [1] Column\n",
       "        [0] HoloViews(Bars)\n",
       "        [1] HoloViews(Layout)\n",
       "    [2] Column\n",
       "        [0] Row\n",
       "            [0] HoloViews(DynamicMap)\n",
       "            [1] Column\n",
       "                [0] WidgetBox\n",
       "                    [0] Select(margin=(20, 20, 20, 20), name='neighborhood', options=['Alamo Square', ...], value='Alamo Square', width=250)\n",
       "                [1] VSpacer()\n",
       "        [1] HoloViews(Bars)\n",
       "        [2] Row\n",
       "            [0] HoloViews(DynamicMap)\n",
       "            [1] Column\n",
       "                [0] WidgetBox\n",
       "                    [0] Select(margin=(20, 20, 20, 20), name='neighborhood', options=['Alamo Square', ...], value='Alamo Square', width=250)\n",
       "                [1] VSpacer()"
      ]
     },
     "execution_count": 28,
     "metadata": {
      "application/vnd.holoviews_exec.v0+json": {
       "id": "3953"
      }
     },
     "output_type": "execute_result"
    }
   ],
   "source": [
    "# Serve the# dashboard\n",
    "pop_dashboard.servable()"
   ]
  },
  {
   "cell_type": "markdown",
   "metadata": {},
   "source": [
    "# Debugging\n",
    "\n",
    "Note: Some of the Plotly express plots may not render in the notebook through the panel functions.\n",
    "\n",
    "However, you can test each plot by uncommenting the following code"
   ]
  },
  {
   "cell_type": "code",
   "execution_count": 29,
   "metadata": {},
   "outputs": [],
   "source": [
    "#housing_units_per_year()"
   ]
  },
  {
   "cell_type": "code",
   "execution_count": 30,
   "metadata": {},
   "outputs": [],
   "source": [
    "#average_gross_rent()"
   ]
  },
  {
   "cell_type": "code",
   "execution_count": 31,
   "metadata": {},
   "outputs": [],
   "source": [
    "# average_sales_price()"
   ]
  },
  {
   "cell_type": "code",
   "execution_count": 32,
   "metadata": {},
   "outputs": [],
   "source": [
    "# average_price_by_neighborhood()"
   ]
  },
  {
   "cell_type": "code",
   "execution_count": 33,
   "metadata": {},
   "outputs": [],
   "source": [
    "#top_most_expensive_neighborhoods()"
   ]
  },
  {
   "cell_type": "code",
   "execution_count": 34,
   "metadata": {},
   "outputs": [],
   "source": [
    "#most_expensive_neighborhoods_rent_sales()"
   ]
  },
  {
   "cell_type": "code",
   "execution_count": 35,
   "metadata": {},
   "outputs": [],
   "source": [
    "#neighborhood_map().show()"
   ]
  },
  {
   "cell_type": "code",
   "execution_count": 36,
   "metadata": {},
   "outputs": [],
   "source": [
    "# parallel_categories()"
   ]
  },
  {
   "cell_type": "code",
   "execution_count": 37,
   "metadata": {},
   "outputs": [],
   "source": [
    "# parallel_coordinates()"
   ]
  },
  {
   "cell_type": "code",
   "execution_count": 38,
   "metadata": {},
   "outputs": [],
   "source": [
    "# sunburst()"
   ]
  },
  {
   "cell_type": "code",
   "execution_count": null,
   "metadata": {},
   "outputs": [],
   "source": []
  }
 ],
 "metadata": {
  "file_extension": ".py",
  "kernelspec": {
   "display_name": "Python [conda env:pyvizenv] *",
   "language": "python",
   "name": "conda-env-pyvizenv-py"
  },
  "language_info": {
   "codemirror_mode": {
    "name": "ipython",
    "version": 3
   },
   "file_extension": ".py",
   "mimetype": "text/x-python",
   "name": "python",
   "nbconvert_exporter": "python",
   "pygments_lexer": "ipython3",
   "version": "3.7.7"
  },
  "mimetype": "text/x-python",
  "name": "python",
  "npconvert_exporter": "python",
  "pygments_lexer": "ipython3",
  "version": 3
 },
 "nbformat": 4,
 "nbformat_minor": 4
}
